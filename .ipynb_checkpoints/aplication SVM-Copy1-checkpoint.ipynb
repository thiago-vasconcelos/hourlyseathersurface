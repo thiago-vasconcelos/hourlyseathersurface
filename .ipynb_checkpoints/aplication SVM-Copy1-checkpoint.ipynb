{
 "cells": [
  {
   "cell_type": "code",
   "execution_count": 1,
   "metadata": {},
   "outputs": [],
   "source": [
    "import pandas as pd\n",
    "from sklearn.svm import SVC\n",
    "from sklearn.decomposition import PCA\n",
    "\n",
    "import matplotlib.pyplot as plt\n",
    "import seaborn as sns\n",
    "\n",
    "import numpy as np\n",
    "\n",
    "from sklearn.model_selection import train_test_split\n",
    "\n",
    "from sklearn.preprocessing import StandardScaler\n",
    "from sklearn.metrics import confusion_matrix\n",
    "\n",
    "from sklearn.model_selection import GridSearchCV\n",
    "%matplotlib inline"
   ]
  },
  {
   "cell_type": "code",
   "execution_count": 2,
   "metadata": {},
   "outputs": [],
   "source": [
    "df = pd.read_csv('sudeste_data.csv')"
   ]
  },
  {
   "cell_type": "code",
   "execution_count": 3,
   "metadata": {},
   "outputs": [
    {
     "name": "stdout",
     "output_type": "stream",
     "text": [
      "<class 'pandas.core.frame.DataFrame'>\n",
      "RangeIndex: 9779168 entries, 0 to 9779167\n",
      "Data columns (total 31 columns):\n",
      "wsid    int64\n",
      "wsnm    object\n",
      "elvt    float64\n",
      "lat     float64\n",
      "lon     float64\n",
      "inme    object\n",
      "city    object\n",
      "prov    object\n",
      "mdct    object\n",
      "date    object\n",
      "yr      int64\n",
      "mo      int64\n",
      "da      int64\n",
      "hr      int64\n",
      "prcp    float64\n",
      "stp     float64\n",
      "smax    float64\n",
      "smin    float64\n",
      "gbrd    float64\n",
      "temp    float64\n",
      "dewp    float64\n",
      "tmax    float64\n",
      "dmax    float64\n",
      "tmin    float64\n",
      "dmin    float64\n",
      "hmdy    float64\n",
      "hmax    float64\n",
      "hmin    float64\n",
      "wdsp    float64\n",
      "wdct    float64\n",
      "gust    float64\n",
      "dtypes: float64(20), int64(5), object(6)\n",
      "memory usage: 2.3+ GB\n"
     ]
    }
   ],
   "source": [
    "df.info()"
   ]
  },
  {
   "cell_type": "code",
   "execution_count": 4,
   "metadata": {},
   "outputs": [
    {
     "data": {
      "text/html": [
       "<div>\n",
       "<style scoped>\n",
       "    .dataframe tbody tr th:only-of-type {\n",
       "        vertical-align: middle;\n",
       "    }\n",
       "\n",
       "    .dataframe tbody tr th {\n",
       "        vertical-align: top;\n",
       "    }\n",
       "\n",
       "    .dataframe thead th {\n",
       "        text-align: right;\n",
       "    }\n",
       "</style>\n",
       "<table border=\"1\" class=\"dataframe\">\n",
       "  <thead>\n",
       "    <tr style=\"text-align: right;\">\n",
       "      <th></th>\n",
       "      <th>wsid</th>\n",
       "      <th>elvt</th>\n",
       "      <th>lat</th>\n",
       "      <th>lon</th>\n",
       "      <th>yr</th>\n",
       "      <th>mo</th>\n",
       "      <th>da</th>\n",
       "      <th>hr</th>\n",
       "      <th>prcp</th>\n",
       "      <th>stp</th>\n",
       "      <th>...</th>\n",
       "      <th>tmax</th>\n",
       "      <th>dmax</th>\n",
       "      <th>tmin</th>\n",
       "      <th>dmin</th>\n",
       "      <th>hmdy</th>\n",
       "      <th>hmax</th>\n",
       "      <th>hmin</th>\n",
       "      <th>wdsp</th>\n",
       "      <th>wdct</th>\n",
       "      <th>gust</th>\n",
       "    </tr>\n",
       "  </thead>\n",
       "  <tbody>\n",
       "    <tr>\n",
       "      <th>count</th>\n",
       "      <td>9.779168e+06</td>\n",
       "      <td>9.779168e+06</td>\n",
       "      <td>9.779168e+06</td>\n",
       "      <td>9.779168e+06</td>\n",
       "      <td>9.779168e+06</td>\n",
       "      <td>9.779168e+06</td>\n",
       "      <td>9.779168e+06</td>\n",
       "      <td>9.779168e+06</td>\n",
       "      <td>1.407984e+06</td>\n",
       "      <td>9.779168e+06</td>\n",
       "      <td>...</td>\n",
       "      <td>9.779142e+06</td>\n",
       "      <td>9.778858e+06</td>\n",
       "      <td>9.779134e+06</td>\n",
       "      <td>9.778361e+06</td>\n",
       "      <td>9.779168e+06</td>\n",
       "      <td>9.779156e+06</td>\n",
       "      <td>9.779124e+06</td>\n",
       "      <td>8.853607e+06</td>\n",
       "      <td>9.779168e+06</td>\n",
       "      <td>9.462694e+06</td>\n",
       "    </tr>\n",
       "    <tr>\n",
       "      <th>mean</th>\n",
       "      <td>3.592531e+02</td>\n",
       "      <td>5.940923e+02</td>\n",
       "      <td>-2.023082e+01</td>\n",
       "      <td>-4.464590e+01</td>\n",
       "      <td>2.011164e+03</td>\n",
       "      <td>6.521960e+00</td>\n",
       "      <td>1.575465e+01</td>\n",
       "      <td>1.150000e+01</td>\n",
       "      <td>9.366544e-01</td>\n",
       "      <td>8.804292e+02</td>\n",
       "      <td>...</td>\n",
       "      <td>2.110503e+01</td>\n",
       "      <td>1.524025e+01</td>\n",
       "      <td>1.986418e+01</td>\n",
       "      <td>1.422089e+01</td>\n",
       "      <td>6.726667e+01</td>\n",
       "      <td>6.996991e+01</td>\n",
       "      <td>6.441965e+01</td>\n",
       "      <td>1.998156e+00</td>\n",
       "      <td>1.385991e+02</td>\n",
       "      <td>4.494015e+00</td>\n",
       "    </tr>\n",
       "    <tr>\n",
       "      <th>std</th>\n",
       "      <td>3.901630e+01</td>\n",
       "      <td>3.980379e+02</td>\n",
       "      <td>3.172643e+00</td>\n",
       "      <td>4.882117e+00</td>\n",
       "      <td>3.207774e+00</td>\n",
       "      <td>3.425538e+00</td>\n",
       "      <td>8.802154e+00</td>\n",
       "      <td>6.922190e+00</td>\n",
       "      <td>2.923291e+00</td>\n",
       "      <td>2.482650e+02</td>\n",
       "      <td>...</td>\n",
       "      <td>7.545549e+00</td>\n",
       "      <td>5.866811e+00</td>\n",
       "      <td>7.134849e+00</td>\n",
       "      <td>5.777089e+00</td>\n",
       "      <td>2.654213e+01</td>\n",
       "      <td>2.643371e+01</td>\n",
       "      <td>2.656550e+01</td>\n",
       "      <td>1.618531e+00</td>\n",
       "      <td>1.052018e+02</td>\n",
       "      <td>2.981790e+00</td>\n",
       "    </tr>\n",
       "    <tr>\n",
       "      <th>min</th>\n",
       "      <td>1.780000e+02</td>\n",
       "      <td>0.000000e+00</td>\n",
       "      <td>-2.496282e+01</td>\n",
       "      <td>-5.667732e+01</td>\n",
       "      <td>2.000000e+03</td>\n",
       "      <td>1.000000e+00</td>\n",
       "      <td>1.000000e+00</td>\n",
       "      <td>0.000000e+00</td>\n",
       "      <td>0.000000e+00</td>\n",
       "      <td>0.000000e+00</td>\n",
       "      <td>...</td>\n",
       "      <td>-3.200000e+00</td>\n",
       "      <td>-1.000000e+01</td>\n",
       "      <td>-8.500000e+00</td>\n",
       "      <td>-1.000000e+01</td>\n",
       "      <td>0.000000e+00</td>\n",
       "      <td>0.000000e+00</td>\n",
       "      <td>0.000000e+00</td>\n",
       "      <td>0.000000e+00</td>\n",
       "      <td>0.000000e+00</td>\n",
       "      <td>0.000000e+00</td>\n",
       "    </tr>\n",
       "    <tr>\n",
       "      <th>25%</th>\n",
       "      <td>3.280000e+02</td>\n",
       "      <td>2.830000e+02</td>\n",
       "      <td>-2.239580e+01</td>\n",
       "      <td>-4.743410e+01</td>\n",
       "      <td>2.009000e+03</td>\n",
       "      <td>4.000000e+00</td>\n",
       "      <td>8.000000e+00</td>\n",
       "      <td>5.000000e+00</td>\n",
       "      <td>0.000000e+00</td>\n",
       "      <td>9.113000e+02</td>\n",
       "      <td>...</td>\n",
       "      <td>1.820000e+01</td>\n",
       "      <td>1.270000e+01</td>\n",
       "      <td>1.720000e+01</td>\n",
       "      <td>1.160000e+01</td>\n",
       "      <td>5.300000e+01</td>\n",
       "      <td>5.800000e+01</td>\n",
       "      <td>4.900000e+01</td>\n",
       "      <td>8.000000e-01</td>\n",
       "      <td>5.600000e+01</td>\n",
       "      <td>2.300000e+00</td>\n",
       "    </tr>\n",
       "    <tr>\n",
       "      <th>50%</th>\n",
       "      <td>3.580000e+02</td>\n",
       "      <td>5.730000e+02</td>\n",
       "      <td>-2.075041e+01</td>\n",
       "      <td>-4.445378e+01</td>\n",
       "      <td>2.011000e+03</td>\n",
       "      <td>7.000000e+00</td>\n",
       "      <td>1.600000e+01</td>\n",
       "      <td>1.200000e+01</td>\n",
       "      <td>0.000000e+00</td>\n",
       "      <td>9.442000e+02</td>\n",
       "      <td>...</td>\n",
       "      <td>2.190000e+01</td>\n",
       "      <td>1.660000e+01</td>\n",
       "      <td>2.080000e+01</td>\n",
       "      <td>1.560000e+01</td>\n",
       "      <td>7.400000e+01</td>\n",
       "      <td>7.800000e+01</td>\n",
       "      <td>7.000000e+01</td>\n",
       "      <td>1.700000e+00</td>\n",
       "      <td>1.140000e+02</td>\n",
       "      <td>4.200000e+00</td>\n",
       "    </tr>\n",
       "    <tr>\n",
       "      <th>75%</th>\n",
       "      <td>3.940000e+02</td>\n",
       "      <td>8.750000e+02</td>\n",
       "      <td>-1.891707e+01</td>\n",
       "      <td>-4.243575e+01</td>\n",
       "      <td>2.014000e+03</td>\n",
       "      <td>9.000000e+00</td>\n",
       "      <td>2.300000e+01</td>\n",
       "      <td>1.800000e+01</td>\n",
       "      <td>6.000000e-01</td>\n",
       "      <td>9.731000e+02</td>\n",
       "      <td>...</td>\n",
       "      <td>2.580000e+01</td>\n",
       "      <td>1.940000e+01</td>\n",
       "      <td>2.420000e+01</td>\n",
       "      <td>1.840000e+01</td>\n",
       "      <td>8.900000e+01</td>\n",
       "      <td>9.100000e+01</td>\n",
       "      <td>8.600000e+01</td>\n",
       "      <td>2.900000e+00</td>\n",
       "      <td>2.160000e+02</td>\n",
       "      <td>6.300000e+00</td>\n",
       "    </tr>\n",
       "    <tr>\n",
       "      <th>max</th>\n",
       "      <td>4.230000e+02</td>\n",
       "      <td>1.758000e+03</td>\n",
       "      <td>0.000000e+00</td>\n",
       "      <td>0.000000e+00</td>\n",
       "      <td>2.016000e+03</td>\n",
       "      <td>1.200000e+01</td>\n",
       "      <td>3.100000e+01</td>\n",
       "      <td>2.300000e+01</td>\n",
       "      <td>1.000000e+02</td>\n",
       "      <td>1.050000e+03</td>\n",
       "      <td>...</td>\n",
       "      <td>4.500000e+01</td>\n",
       "      <td>4.480000e+01</td>\n",
       "      <td>4.500000e+01</td>\n",
       "      <td>4.490000e+01</td>\n",
       "      <td>1.000000e+02</td>\n",
       "      <td>1.000000e+02</td>\n",
       "      <td>1.000000e+02</td>\n",
       "      <td>1.980000e+01</td>\n",
       "      <td>3.600000e+02</td>\n",
       "      <td>5.000000e+01</td>\n",
       "    </tr>\n",
       "  </tbody>\n",
       "</table>\n",
       "<p>8 rows × 25 columns</p>\n",
       "</div>"
      ],
      "text/plain": [
       "               wsid          elvt           lat           lon            yr  \\\n",
       "count  9.779168e+06  9.779168e+06  9.779168e+06  9.779168e+06  9.779168e+06   \n",
       "mean   3.592531e+02  5.940923e+02 -2.023082e+01 -4.464590e+01  2.011164e+03   \n",
       "std    3.901630e+01  3.980379e+02  3.172643e+00  4.882117e+00  3.207774e+00   \n",
       "min    1.780000e+02  0.000000e+00 -2.496282e+01 -5.667732e+01  2.000000e+03   \n",
       "25%    3.280000e+02  2.830000e+02 -2.239580e+01 -4.743410e+01  2.009000e+03   \n",
       "50%    3.580000e+02  5.730000e+02 -2.075041e+01 -4.445378e+01  2.011000e+03   \n",
       "75%    3.940000e+02  8.750000e+02 -1.891707e+01 -4.243575e+01  2.014000e+03   \n",
       "max    4.230000e+02  1.758000e+03  0.000000e+00  0.000000e+00  2.016000e+03   \n",
       "\n",
       "                 mo            da            hr          prcp           stp  \\\n",
       "count  9.779168e+06  9.779168e+06  9.779168e+06  1.407984e+06  9.779168e+06   \n",
       "mean   6.521960e+00  1.575465e+01  1.150000e+01  9.366544e-01  8.804292e+02   \n",
       "std    3.425538e+00  8.802154e+00  6.922190e+00  2.923291e+00  2.482650e+02   \n",
       "min    1.000000e+00  1.000000e+00  0.000000e+00  0.000000e+00  0.000000e+00   \n",
       "25%    4.000000e+00  8.000000e+00  5.000000e+00  0.000000e+00  9.113000e+02   \n",
       "50%    7.000000e+00  1.600000e+01  1.200000e+01  0.000000e+00  9.442000e+02   \n",
       "75%    9.000000e+00  2.300000e+01  1.800000e+01  6.000000e-01  9.731000e+02   \n",
       "max    1.200000e+01  3.100000e+01  2.300000e+01  1.000000e+02  1.050000e+03   \n",
       "\n",
       "       ...          tmax          dmax          tmin          dmin  \\\n",
       "count  ...  9.779142e+06  9.778858e+06  9.779134e+06  9.778361e+06   \n",
       "mean   ...  2.110503e+01  1.524025e+01  1.986418e+01  1.422089e+01   \n",
       "std    ...  7.545549e+00  5.866811e+00  7.134849e+00  5.777089e+00   \n",
       "min    ... -3.200000e+00 -1.000000e+01 -8.500000e+00 -1.000000e+01   \n",
       "25%    ...  1.820000e+01  1.270000e+01  1.720000e+01  1.160000e+01   \n",
       "50%    ...  2.190000e+01  1.660000e+01  2.080000e+01  1.560000e+01   \n",
       "75%    ...  2.580000e+01  1.940000e+01  2.420000e+01  1.840000e+01   \n",
       "max    ...  4.500000e+01  4.480000e+01  4.500000e+01  4.490000e+01   \n",
       "\n",
       "               hmdy          hmax          hmin          wdsp          wdct  \\\n",
       "count  9.779168e+06  9.779156e+06  9.779124e+06  8.853607e+06  9.779168e+06   \n",
       "mean   6.726667e+01  6.996991e+01  6.441965e+01  1.998156e+00  1.385991e+02   \n",
       "std    2.654213e+01  2.643371e+01  2.656550e+01  1.618531e+00  1.052018e+02   \n",
       "min    0.000000e+00  0.000000e+00  0.000000e+00  0.000000e+00  0.000000e+00   \n",
       "25%    5.300000e+01  5.800000e+01  4.900000e+01  8.000000e-01  5.600000e+01   \n",
       "50%    7.400000e+01  7.800000e+01  7.000000e+01  1.700000e+00  1.140000e+02   \n",
       "75%    8.900000e+01  9.100000e+01  8.600000e+01  2.900000e+00  2.160000e+02   \n",
       "max    1.000000e+02  1.000000e+02  1.000000e+02  1.980000e+01  3.600000e+02   \n",
       "\n",
       "               gust  \n",
       "count  9.462694e+06  \n",
       "mean   4.494015e+00  \n",
       "std    2.981790e+00  \n",
       "min    0.000000e+00  \n",
       "25%    2.300000e+00  \n",
       "50%    4.200000e+00  \n",
       "75%    6.300000e+00  \n",
       "max    5.000000e+01  \n",
       "\n",
       "[8 rows x 25 columns]"
      ]
     },
     "execution_count": 4,
     "metadata": {},
     "output_type": "execute_result"
    }
   ],
   "source": [
    "df.describe()"
   ]
  },
  {
   "cell_type": "code",
   "execution_count": 5,
   "metadata": {},
   "outputs": [],
   "source": [
    "dataset = df[df['prcp'] > 0]"
   ]
  },
  {
   "cell_type": "code",
   "execution_count": 6,
   "metadata": {},
   "outputs": [],
   "source": [
    "dataset = dataset[dataset.prov == 'RJ']\n",
    "# dataset = dataset[dataset['wsid'] == 178]"
   ]
  },
  {
   "cell_type": "code",
   "execution_count": 7,
   "metadata": {},
   "outputs": [
    {
     "data": {
      "text/plain": [
       "131497"
      ]
     },
     "execution_count": 7,
     "metadata": {},
     "output_type": "execute_result"
    }
   ],
   "source": [
    "len(dataset)"
   ]
  },
  {
   "cell_type": "code",
   "execution_count": 8,
   "metadata": {},
   "outputs": [
    {
     "data": {
      "text/plain": [
       "68045"
      ]
     },
     "execution_count": 8,
     "metadata": {},
     "output_type": "execute_result"
    }
   ],
   "source": [
    "dataset.isna().any(axis=1).sum()"
   ]
  },
  {
   "cell_type": "code",
   "execution_count": 9,
   "metadata": {},
   "outputs": [
    {
     "data": {
      "text/plain": [
       "wsid    False\n",
       "wsnm    False\n",
       "elvt    False\n",
       "lat     False\n",
       "lon     False\n",
       "inme    False\n",
       "city    False\n",
       "prov    False\n",
       "mdct    False\n",
       "date    False\n",
       "yr      False\n",
       "mo      False\n",
       "da      False\n",
       "hr      False\n",
       "prcp    False\n",
       "stp     False\n",
       "smax    False\n",
       "smin    False\n",
       "gbrd     True\n",
       "temp    False\n",
       "dewp    False\n",
       "tmax    False\n",
       "dmax     True\n",
       "tmin    False\n",
       "dmin    False\n",
       "hmdy    False\n",
       "hmax    False\n",
       "hmin     True\n",
       "wdsp     True\n",
       "wdct    False\n",
       "gust     True\n",
       "dtype: bool"
      ]
     },
     "execution_count": 9,
     "metadata": {},
     "output_type": "execute_result"
    }
   ],
   "source": [
    "dataset.isna().any(axis=0)"
   ]
  },
  {
   "cell_type": "code",
   "execution_count": 10,
   "metadata": {},
   "outputs": [
    {
     "data": {
      "text/plain": [
       "1725       False\n",
       "1859       False\n",
       "1979       False\n",
       "1986       False\n",
       "2084       False\n",
       "2579       False\n",
       "2724       False\n",
       "2725       False\n",
       "2753       False\n",
       "2757       False\n",
       "2781       False\n",
       "2782       False\n",
       "2796       False\n",
       "2859        True\n",
       "2860        True\n",
       "2861        True\n",
       "2881        True\n",
       "2882        True\n",
       "2884        True\n",
       "2885        True\n",
       "2886       False\n",
       "2887       False\n",
       "2888       False\n",
       "2907        True\n",
       "2908        True\n",
       "2931        True\n",
       "2932        True\n",
       "2933        True\n",
       "2934       False\n",
       "2935       False\n",
       "           ...  \n",
       "7032595    False\n",
       "7032596    False\n",
       "7032597    False\n",
       "7032598    False\n",
       "7032599    False\n",
       "7032600    False\n",
       "7032601    False\n",
       "7032602    False\n",
       "7032604    False\n",
       "7032605    False\n",
       "7032607     True\n",
       "7032608     True\n",
       "7032610     True\n",
       "7032611     True\n",
       "7032612     True\n",
       "7032623    False\n",
       "7032704     True\n",
       "7032710    False\n",
       "7032711    False\n",
       "7032713    False\n",
       "7032716    False\n",
       "7032717    False\n",
       "7032718    False\n",
       "7032721    False\n",
       "7032722    False\n",
       "7032723    False\n",
       "7032724    False\n",
       "7032725    False\n",
       "7032726    False\n",
       "7032727     True\n",
       "Length: 131497, dtype: bool"
      ]
     },
     "execution_count": 10,
     "metadata": {},
     "output_type": "execute_result"
    }
   ],
   "source": [
    "dataset.gbrd.isna() & (((dataset['hr'] >= 0) & (dataset['hr'] <= 5)) | ((dataset['hr'] >= 20) & (dataset['hr'] <= 23)))"
   ]
  },
  {
   "cell_type": "code",
   "execution_count": 11,
   "metadata": {},
   "outputs": [],
   "source": [
    "dataset['gbrd'].loc[dataset[dataset.gbrd.isna() & (((dataset['hr'] >= 0) & (dataset['hr'] <= 5)) | ((dataset['hr'] >= 20) & (dataset['hr'] <= 23)))].index] = 0"
   ]
  },
  {
   "cell_type": "code",
   "execution_count": 12,
   "metadata": {},
   "outputs": [],
   "source": [
    "dataset = dataset.set_index('mdct').drop(columns=['date', 'yr', 'mo', 'da', 'hr', 'prov', 'city', 'wsid', 'wsnm', 'elvt', 'lat', 'lon','inme'])"
   ]
  },
  {
   "cell_type": "code",
   "execution_count": 13,
   "metadata": {},
   "outputs": [
    {
     "data": {
      "text/plain": [
       "131497"
      ]
     },
     "execution_count": 13,
     "metadata": {},
     "output_type": "execute_result"
    }
   ],
   "source": [
    "len(dataset)"
   ]
  },
  {
   "cell_type": "code",
   "execution_count": 14,
   "metadata": {},
   "outputs": [
    {
     "data": {
      "text/plain": [
       "108538"
      ]
     },
     "execution_count": 14,
     "metadata": {},
     "output_type": "execute_result"
    }
   ],
   "source": [
    "dataset = dataset[(dataset[['prcp', 'stp', 'smax', 'smin', 'temp', 'dewp', 'tmax', 'dmax',\n",
    "       'tmin', 'dmin', 'hmdy', 'hmax', 'hmin', 'wdsp', 'wdct', 'gust']] > 0).all(axis=1)]\n",
    "len(dataset)"
   ]
  },
  {
   "cell_type": "code",
   "execution_count": 15,
   "metadata": {},
   "outputs": [
    {
     "data": {
      "text/plain": [
       "94780"
      ]
     },
     "execution_count": 15,
     "metadata": {},
     "output_type": "execute_result"
    }
   ],
   "source": [
    "dataset = dataset.dropna()\n",
    "len(dataset)"
   ]
  },
  {
   "cell_type": "code",
   "execution_count": 16,
   "metadata": {},
   "outputs": [
    {
     "data": {
      "text/html": [
       "<div>\n",
       "<style scoped>\n",
       "    .dataframe tbody tr th:only-of-type {\n",
       "        vertical-align: middle;\n",
       "    }\n",
       "\n",
       "    .dataframe tbody tr th {\n",
       "        vertical-align: top;\n",
       "    }\n",
       "\n",
       "    .dataframe thead th {\n",
       "        text-align: right;\n",
       "    }\n",
       "</style>\n",
       "<table border=\"1\" class=\"dataframe\">\n",
       "  <thead>\n",
       "    <tr style=\"text-align: right;\">\n",
       "      <th></th>\n",
       "      <th>prcp</th>\n",
       "      <th>stp</th>\n",
       "      <th>smax</th>\n",
       "      <th>smin</th>\n",
       "      <th>gbrd</th>\n",
       "      <th>temp</th>\n",
       "      <th>dewp</th>\n",
       "      <th>tmax</th>\n",
       "      <th>dmax</th>\n",
       "      <th>tmin</th>\n",
       "      <th>dmin</th>\n",
       "      <th>hmdy</th>\n",
       "      <th>hmax</th>\n",
       "      <th>hmin</th>\n",
       "      <th>wdsp</th>\n",
       "      <th>wdct</th>\n",
       "      <th>gust</th>\n",
       "    </tr>\n",
       "  </thead>\n",
       "  <tbody>\n",
       "    <tr>\n",
       "      <th>prcp</th>\n",
       "      <td>14.814750</td>\n",
       "      <td>-1.031657</td>\n",
       "      <td>-0.927534</td>\n",
       "      <td>-1.333030</td>\n",
       "      <td>-192.213680</td>\n",
       "      <td>0.590250</td>\n",
       "      <td>1.296056</td>\n",
       "      <td>1.625019</td>\n",
       "      <td>1.586602</td>\n",
       "      <td>0.632219</td>\n",
       "      <td>1.173575</td>\n",
       "      <td>3.642898</td>\n",
       "      <td>2.831994</td>\n",
       "      <td>-0.161301</td>\n",
       "      <td>0.115495</td>\n",
       "      <td>1.373953</td>\n",
       "      <td>2.185972</td>\n",
       "    </tr>\n",
       "    <tr>\n",
       "      <th>stp</th>\n",
       "      <td>-1.031657</td>\n",
       "      <td>3604.941352</td>\n",
       "      <td>3605.810399</td>\n",
       "      <td>3602.855359</td>\n",
       "      <td>-551.542766</td>\n",
       "      <td>165.364110</td>\n",
       "      <td>142.900223</td>\n",
       "      <td>166.317585</td>\n",
       "      <td>141.225465</td>\n",
       "      <td>165.439822</td>\n",
       "      <td>141.660106</td>\n",
       "      <td>-119.074708</td>\n",
       "      <td>-109.933694</td>\n",
       "      <td>-145.534940</td>\n",
       "      <td>-33.597224</td>\n",
       "      <td>61.006333</td>\n",
       "      <td>-55.854356</td>\n",
       "    </tr>\n",
       "    <tr>\n",
       "      <th>smax</th>\n",
       "      <td>-0.927534</td>\n",
       "      <td>3605.810399</td>\n",
       "      <td>3606.890219</td>\n",
       "      <td>3603.781833</td>\n",
       "      <td>-530.433102</td>\n",
       "      <td>165.522618</td>\n",
       "      <td>142.994227</td>\n",
       "      <td>166.492548</td>\n",
       "      <td>141.333149</td>\n",
       "      <td>165.580664</td>\n",
       "      <td>141.741984</td>\n",
       "      <td>-119.375536</td>\n",
       "      <td>-110.139535</td>\n",
       "      <td>-145.924284</td>\n",
       "      <td>-33.600359</td>\n",
       "      <td>59.107243</td>\n",
       "      <td>-55.822268</td>\n",
       "    </tr>\n",
       "    <tr>\n",
       "      <th>smin</th>\n",
       "      <td>-1.333030</td>\n",
       "      <td>3602.855359</td>\n",
       "      <td>3603.781833</td>\n",
       "      <td>3600.948871</td>\n",
       "      <td>-512.559693</td>\n",
       "      <td>165.280893</td>\n",
       "      <td>142.808673</td>\n",
       "      <td>166.101981</td>\n",
       "      <td>141.108916</td>\n",
       "      <td>165.343544</td>\n",
       "      <td>141.587750</td>\n",
       "      <td>-119.082873</td>\n",
       "      <td>-109.893243</td>\n",
       "      <td>-144.967755</td>\n",
       "      <td>-33.666404</td>\n",
       "      <td>58.383158</td>\n",
       "      <td>-56.142594</td>\n",
       "    </tr>\n",
       "    <tr>\n",
       "      <th>gbrd</th>\n",
       "      <td>-192.213680</td>\n",
       "      <td>-551.542766</td>\n",
       "      <td>-530.433102</td>\n",
       "      <td>-512.559693</td>\n",
       "      <td>242656.461740</td>\n",
       "      <td>467.720719</td>\n",
       "      <td>50.845712</td>\n",
       "      <td>507.031496</td>\n",
       "      <td>117.810595</td>\n",
       "      <td>358.551112</td>\n",
       "      <td>-21.584734</td>\n",
       "      <td>-1943.925918</td>\n",
       "      <td>-1415.273450</td>\n",
       "      <td>-2184.152216</td>\n",
       "      <td>74.775690</td>\n",
       "      <td>-2805.085739</td>\n",
       "      <td>101.414494</td>\n",
       "    </tr>\n",
       "    <tr>\n",
       "      <th>temp</th>\n",
       "      <td>0.590250</td>\n",
       "      <td>165.364110</td>\n",
       "      <td>165.522618</td>\n",
       "      <td>165.280893</td>\n",
       "      <td>467.720719</td>\n",
       "      <td>16.111032</td>\n",
       "      <td>12.945957</td>\n",
       "      <td>16.700495</td>\n",
       "      <td>13.109779</td>\n",
       "      <td>15.822325</td>\n",
       "      <td>12.538183</td>\n",
       "      <td>-15.412568</td>\n",
       "      <td>-13.021703</td>\n",
       "      <td>-20.232754</td>\n",
       "      <td>-1.868862</td>\n",
       "      <td>-2.428782</td>\n",
       "      <td>-2.442483</td>\n",
       "    </tr>\n",
       "    <tr>\n",
       "      <th>dewp</th>\n",
       "      <td>1.296056</td>\n",
       "      <td>142.900223</td>\n",
       "      <td>142.994227</td>\n",
       "      <td>142.808673</td>\n",
       "      <td>50.845712</td>\n",
       "      <td>12.945957</td>\n",
       "      <td>12.491469</td>\n",
       "      <td>13.266274</td>\n",
       "      <td>12.349631</td>\n",
       "      <td>12.967174</td>\n",
       "      <td>12.328012</td>\n",
       "      <td>-2.633820</td>\n",
       "      <td>-2.676822</td>\n",
       "      <td>-5.688328</td>\n",
       "      <td>-2.039791</td>\n",
       "      <td>1.496735</td>\n",
       "      <td>-3.035780</td>\n",
       "    </tr>\n",
       "    <tr>\n",
       "      <th>tmax</th>\n",
       "      <td>1.625019</td>\n",
       "      <td>166.317585</td>\n",
       "      <td>166.492548</td>\n",
       "      <td>166.101981</td>\n",
       "      <td>507.031496</td>\n",
       "      <td>16.700495</td>\n",
       "      <td>13.266274</td>\n",
       "      <td>18.260266</td>\n",
       "      <td>13.658527</td>\n",
       "      <td>16.466549</td>\n",
       "      <td>12.669702</td>\n",
       "      <td>-16.828200</td>\n",
       "      <td>-14.519109</td>\n",
       "      <td>-25.920639</td>\n",
       "      <td>-1.660173</td>\n",
       "      <td>-0.187421</td>\n",
       "      <td>-1.468855</td>\n",
       "    </tr>\n",
       "    <tr>\n",
       "      <th>dmax</th>\n",
       "      <td>1.586602</td>\n",
       "      <td>141.225465</td>\n",
       "      <td>141.333149</td>\n",
       "      <td>141.108916</td>\n",
       "      <td>117.810595</td>\n",
       "      <td>13.109779</td>\n",
       "      <td>12.349631</td>\n",
       "      <td>13.658527</td>\n",
       "      <td>12.473195</td>\n",
       "      <td>13.090106</td>\n",
       "      <td>12.196685</td>\n",
       "      <td>-4.097393</td>\n",
       "      <td>-3.435474</td>\n",
       "      <td>-7.552625</td>\n",
       "      <td>-1.869488</td>\n",
       "      <td>1.459627</td>\n",
       "      <td>-2.595803</td>\n",
       "    </tr>\n",
       "    <tr>\n",
       "      <th>tmin</th>\n",
       "      <td>0.632219</td>\n",
       "      <td>165.439822</td>\n",
       "      <td>165.580664</td>\n",
       "      <td>165.343544</td>\n",
       "      <td>358.551112</td>\n",
       "      <td>15.822325</td>\n",
       "      <td>12.967174</td>\n",
       "      <td>16.466549</td>\n",
       "      <td>13.090106</td>\n",
       "      <td>15.789363</td>\n",
       "      <td>12.678212</td>\n",
       "      <td>-13.914816</td>\n",
       "      <td>-12.444619</td>\n",
       "      <td>-18.840209</td>\n",
       "      <td>-1.892479</td>\n",
       "      <td>-1.553873</td>\n",
       "      <td>-2.565937</td>\n",
       "    </tr>\n",
       "    <tr>\n",
       "      <th>dmin</th>\n",
       "      <td>1.173575</td>\n",
       "      <td>141.660106</td>\n",
       "      <td>141.741984</td>\n",
       "      <td>141.587750</td>\n",
       "      <td>-21.584734</td>\n",
       "      <td>12.538183</td>\n",
       "      <td>12.328012</td>\n",
       "      <td>12.669702</td>\n",
       "      <td>12.196685</td>\n",
       "      <td>12.678212</td>\n",
       "      <td>12.430639</td>\n",
       "      <td>-1.426592</td>\n",
       "      <td>-1.615990</td>\n",
       "      <td>-2.874789</td>\n",
       "      <td>-2.029337</td>\n",
       "      <td>1.366372</td>\n",
       "      <td>-3.256497</td>\n",
       "    </tr>\n",
       "    <tr>\n",
       "      <th>hmdy</th>\n",
       "      <td>3.642898</td>\n",
       "      <td>-119.074708</td>\n",
       "      <td>-119.375536</td>\n",
       "      <td>-119.082873</td>\n",
       "      <td>-1943.925918</td>\n",
       "      <td>-15.412568</td>\n",
       "      <td>-2.633820</td>\n",
       "      <td>-16.828200</td>\n",
       "      <td>-4.097393</td>\n",
       "      <td>-13.914816</td>\n",
       "      <td>-1.426592</td>\n",
       "      <td>61.721753</td>\n",
       "      <td>49.601599</td>\n",
       "      <td>71.049957</td>\n",
       "      <td>-0.888550</td>\n",
       "      <td>16.206433</td>\n",
       "      <td>-3.113768</td>\n",
       "    </tr>\n",
       "    <tr>\n",
       "      <th>hmax</th>\n",
       "      <td>2.831994</td>\n",
       "      <td>-109.933694</td>\n",
       "      <td>-110.139535</td>\n",
       "      <td>-109.893243</td>\n",
       "      <td>-1415.273450</td>\n",
       "      <td>-13.021703</td>\n",
       "      <td>-2.676822</td>\n",
       "      <td>-14.519109</td>\n",
       "      <td>-3.435474</td>\n",
       "      <td>-12.444619</td>\n",
       "      <td>-1.615990</td>\n",
       "      <td>49.601599</td>\n",
       "      <td>44.548677</td>\n",
       "      <td>59.343682</td>\n",
       "      <td>-0.555928</td>\n",
       "      <td>14.035929</td>\n",
       "      <td>-2.202081</td>\n",
       "    </tr>\n",
       "    <tr>\n",
       "      <th>hmin</th>\n",
       "      <td>-0.161301</td>\n",
       "      <td>-145.534940</td>\n",
       "      <td>-145.924284</td>\n",
       "      <td>-144.967755</td>\n",
       "      <td>-2184.152216</td>\n",
       "      <td>-20.232754</td>\n",
       "      <td>-5.688328</td>\n",
       "      <td>-25.920639</td>\n",
       "      <td>-7.552625</td>\n",
       "      <td>-18.840209</td>\n",
       "      <td>-2.874789</td>\n",
       "      <td>71.049957</td>\n",
       "      <td>59.343682</td>\n",
       "      <td>105.838205</td>\n",
       "      <td>-1.108801</td>\n",
       "      <td>1.293904</td>\n",
       "      <td>-6.752101</td>\n",
       "    </tr>\n",
       "    <tr>\n",
       "      <th>wdsp</th>\n",
       "      <td>0.115495</td>\n",
       "      <td>-33.597224</td>\n",
       "      <td>-33.600359</td>\n",
       "      <td>-33.666404</td>\n",
       "      <td>74.775690</td>\n",
       "      <td>-1.868862</td>\n",
       "      <td>-2.039791</td>\n",
       "      <td>-1.660173</td>\n",
       "      <td>-1.869488</td>\n",
       "      <td>-1.892479</td>\n",
       "      <td>-2.029337</td>\n",
       "      <td>-0.888550</td>\n",
       "      <td>-0.555928</td>\n",
       "      <td>-1.108801</td>\n",
       "      <td>4.866573</td>\n",
       "      <td>15.398845</td>\n",
       "      <td>7.003695</td>\n",
       "    </tr>\n",
       "    <tr>\n",
       "      <th>wdct</th>\n",
       "      <td>1.373953</td>\n",
       "      <td>61.006333</td>\n",
       "      <td>59.107243</td>\n",
       "      <td>58.383158</td>\n",
       "      <td>-2805.085739</td>\n",
       "      <td>-2.428782</td>\n",
       "      <td>1.496735</td>\n",
       "      <td>-0.187421</td>\n",
       "      <td>1.459627</td>\n",
       "      <td>-1.553873</td>\n",
       "      <td>1.366372</td>\n",
       "      <td>16.206433</td>\n",
       "      <td>14.035929</td>\n",
       "      <td>1.293904</td>\n",
       "      <td>15.398845</td>\n",
       "      <td>10193.121844</td>\n",
       "      <td>32.598852</td>\n",
       "    </tr>\n",
       "    <tr>\n",
       "      <th>gust</th>\n",
       "      <td>2.185972</td>\n",
       "      <td>-55.854356</td>\n",
       "      <td>-55.822268</td>\n",
       "      <td>-56.142594</td>\n",
       "      <td>101.414494</td>\n",
       "      <td>-2.442483</td>\n",
       "      <td>-3.035780</td>\n",
       "      <td>-1.468855</td>\n",
       "      <td>-2.595803</td>\n",
       "      <td>-2.565937</td>\n",
       "      <td>-3.256497</td>\n",
       "      <td>-3.113768</td>\n",
       "      <td>-2.202081</td>\n",
       "      <td>-6.752101</td>\n",
       "      <td>7.003695</td>\n",
       "      <td>32.598852</td>\n",
       "      <td>14.279162</td>\n",
       "    </tr>\n",
       "  </tbody>\n",
       "</table>\n",
       "</div>"
      ],
      "text/plain": [
       "            prcp          stp         smax         smin           gbrd  \\\n",
       "prcp   14.814750    -1.031657    -0.927534    -1.333030    -192.213680   \n",
       "stp    -1.031657  3604.941352  3605.810399  3602.855359    -551.542766   \n",
       "smax   -0.927534  3605.810399  3606.890219  3603.781833    -530.433102   \n",
       "smin   -1.333030  3602.855359  3603.781833  3600.948871    -512.559693   \n",
       "gbrd -192.213680  -551.542766  -530.433102  -512.559693  242656.461740   \n",
       "temp    0.590250   165.364110   165.522618   165.280893     467.720719   \n",
       "dewp    1.296056   142.900223   142.994227   142.808673      50.845712   \n",
       "tmax    1.625019   166.317585   166.492548   166.101981     507.031496   \n",
       "dmax    1.586602   141.225465   141.333149   141.108916     117.810595   \n",
       "tmin    0.632219   165.439822   165.580664   165.343544     358.551112   \n",
       "dmin    1.173575   141.660106   141.741984   141.587750     -21.584734   \n",
       "hmdy    3.642898  -119.074708  -119.375536  -119.082873   -1943.925918   \n",
       "hmax    2.831994  -109.933694  -110.139535  -109.893243   -1415.273450   \n",
       "hmin   -0.161301  -145.534940  -145.924284  -144.967755   -2184.152216   \n",
       "wdsp    0.115495   -33.597224   -33.600359   -33.666404      74.775690   \n",
       "wdct    1.373953    61.006333    59.107243    58.383158   -2805.085739   \n",
       "gust    2.185972   -55.854356   -55.822268   -56.142594     101.414494   \n",
       "\n",
       "            temp        dewp        tmax        dmax        tmin        dmin  \\\n",
       "prcp    0.590250    1.296056    1.625019    1.586602    0.632219    1.173575   \n",
       "stp   165.364110  142.900223  166.317585  141.225465  165.439822  141.660106   \n",
       "smax  165.522618  142.994227  166.492548  141.333149  165.580664  141.741984   \n",
       "smin  165.280893  142.808673  166.101981  141.108916  165.343544  141.587750   \n",
       "gbrd  467.720719   50.845712  507.031496  117.810595  358.551112  -21.584734   \n",
       "temp   16.111032   12.945957   16.700495   13.109779   15.822325   12.538183   \n",
       "dewp   12.945957   12.491469   13.266274   12.349631   12.967174   12.328012   \n",
       "tmax   16.700495   13.266274   18.260266   13.658527   16.466549   12.669702   \n",
       "dmax   13.109779   12.349631   13.658527   12.473195   13.090106   12.196685   \n",
       "tmin   15.822325   12.967174   16.466549   13.090106   15.789363   12.678212   \n",
       "dmin   12.538183   12.328012   12.669702   12.196685   12.678212   12.430639   \n",
       "hmdy  -15.412568   -2.633820  -16.828200   -4.097393  -13.914816   -1.426592   \n",
       "hmax  -13.021703   -2.676822  -14.519109   -3.435474  -12.444619   -1.615990   \n",
       "hmin  -20.232754   -5.688328  -25.920639   -7.552625  -18.840209   -2.874789   \n",
       "wdsp   -1.868862   -2.039791   -1.660173   -1.869488   -1.892479   -2.029337   \n",
       "wdct   -2.428782    1.496735   -0.187421    1.459627   -1.553873    1.366372   \n",
       "gust   -2.442483   -3.035780   -1.468855   -2.595803   -2.565937   -3.256497   \n",
       "\n",
       "             hmdy         hmax         hmin       wdsp          wdct  \\\n",
       "prcp     3.642898     2.831994    -0.161301   0.115495      1.373953   \n",
       "stp   -119.074708  -109.933694  -145.534940 -33.597224     61.006333   \n",
       "smax  -119.375536  -110.139535  -145.924284 -33.600359     59.107243   \n",
       "smin  -119.082873  -109.893243  -144.967755 -33.666404     58.383158   \n",
       "gbrd -1943.925918 -1415.273450 -2184.152216  74.775690  -2805.085739   \n",
       "temp   -15.412568   -13.021703   -20.232754  -1.868862     -2.428782   \n",
       "dewp    -2.633820    -2.676822    -5.688328  -2.039791      1.496735   \n",
       "tmax   -16.828200   -14.519109   -25.920639  -1.660173     -0.187421   \n",
       "dmax    -4.097393    -3.435474    -7.552625  -1.869488      1.459627   \n",
       "tmin   -13.914816   -12.444619   -18.840209  -1.892479     -1.553873   \n",
       "dmin    -1.426592    -1.615990    -2.874789  -2.029337      1.366372   \n",
       "hmdy    61.721753    49.601599    71.049957  -0.888550     16.206433   \n",
       "hmax    49.601599    44.548677    59.343682  -0.555928     14.035929   \n",
       "hmin    71.049957    59.343682   105.838205  -1.108801      1.293904   \n",
       "wdsp    -0.888550    -0.555928    -1.108801   4.866573     15.398845   \n",
       "wdct    16.206433    14.035929     1.293904  15.398845  10193.121844   \n",
       "gust    -3.113768    -2.202081    -6.752101   7.003695     32.598852   \n",
       "\n",
       "            gust  \n",
       "prcp    2.185972  \n",
       "stp   -55.854356  \n",
       "smax  -55.822268  \n",
       "smin  -56.142594  \n",
       "gbrd  101.414494  \n",
       "temp   -2.442483  \n",
       "dewp   -3.035780  \n",
       "tmax   -1.468855  \n",
       "dmax   -2.595803  \n",
       "tmin   -2.565937  \n",
       "dmin   -3.256497  \n",
       "hmdy   -3.113768  \n",
       "hmax   -2.202081  \n",
       "hmin   -6.752101  \n",
       "wdsp    7.003695  \n",
       "wdct   32.598852  \n",
       "gust   14.279162  "
      ]
     },
     "execution_count": 16,
     "metadata": {},
     "output_type": "execute_result"
    }
   ],
   "source": [
    "dataset.cov()"
   ]
  },
  {
   "cell_type": "code",
   "execution_count": 17,
   "metadata": {},
   "outputs": [
    {
     "data": {
      "text/html": [
       "<div>\n",
       "<style scoped>\n",
       "    .dataframe tbody tr th:only-of-type {\n",
       "        vertical-align: middle;\n",
       "    }\n",
       "\n",
       "    .dataframe tbody tr th {\n",
       "        vertical-align: top;\n",
       "    }\n",
       "\n",
       "    .dataframe thead th {\n",
       "        text-align: right;\n",
       "    }\n",
       "</style>\n",
       "<table border=\"1\" class=\"dataframe\">\n",
       "  <thead>\n",
       "    <tr style=\"text-align: right;\">\n",
       "      <th></th>\n",
       "      <th>prcp</th>\n",
       "      <th>stp</th>\n",
       "      <th>smax</th>\n",
       "      <th>smin</th>\n",
       "      <th>gbrd</th>\n",
       "      <th>temp</th>\n",
       "      <th>dewp</th>\n",
       "      <th>tmax</th>\n",
       "      <th>dmax</th>\n",
       "      <th>tmin</th>\n",
       "      <th>dmin</th>\n",
       "      <th>hmdy</th>\n",
       "      <th>hmax</th>\n",
       "      <th>hmin</th>\n",
       "      <th>wdsp</th>\n",
       "      <th>wdct</th>\n",
       "      <th>gust</th>\n",
       "    </tr>\n",
       "  </thead>\n",
       "  <tbody>\n",
       "    <tr>\n",
       "      <th>prcp</th>\n",
       "      <td>1.000000</td>\n",
       "      <td>-0.004464</td>\n",
       "      <td>-0.004013</td>\n",
       "      <td>-0.005771</td>\n",
       "      <td>-0.101377</td>\n",
       "      <td>0.038206</td>\n",
       "      <td>0.095273</td>\n",
       "      <td>0.098800</td>\n",
       "      <td>0.116716</td>\n",
       "      <td>0.041337</td>\n",
       "      <td>0.086480</td>\n",
       "      <td>0.120470</td>\n",
       "      <td>0.110237</td>\n",
       "      <td>-0.004074</td>\n",
       "      <td>0.013602</td>\n",
       "      <td>0.003536</td>\n",
       "      <td>0.150296</td>\n",
       "    </tr>\n",
       "    <tr>\n",
       "      <th>stp</th>\n",
       "      <td>-0.004464</td>\n",
       "      <td>1.000000</td>\n",
       "      <td>0.999971</td>\n",
       "      <td>0.999975</td>\n",
       "      <td>-0.018648</td>\n",
       "      <td>0.686168</td>\n",
       "      <td>0.673406</td>\n",
       "      <td>0.648240</td>\n",
       "      <td>0.666001</td>\n",
       "      <td>0.693440</td>\n",
       "      <td>0.669194</td>\n",
       "      <td>-0.252436</td>\n",
       "      <td>-0.274324</td>\n",
       "      <td>-0.235612</td>\n",
       "      <td>-0.253655</td>\n",
       "      <td>0.010064</td>\n",
       "      <td>-0.246182</td>\n",
       "    </tr>\n",
       "    <tr>\n",
       "      <th>smax</th>\n",
       "      <td>-0.004013</td>\n",
       "      <td>0.999971</td>\n",
       "      <td>1.000000</td>\n",
       "      <td>0.999962</td>\n",
       "      <td>-0.017930</td>\n",
       "      <td>0.686640</td>\n",
       "      <td>0.673667</td>\n",
       "      <td>0.648746</td>\n",
       "      <td>0.666329</td>\n",
       "      <td>0.693842</td>\n",
       "      <td>0.669399</td>\n",
       "      <td>-0.253005</td>\n",
       "      <td>-0.274764</td>\n",
       "      <td>-0.236178</td>\n",
       "      <td>-0.253610</td>\n",
       "      <td>0.009748</td>\n",
       "      <td>-0.245974</td>\n",
       "    </tr>\n",
       "    <tr>\n",
       "      <th>smin</th>\n",
       "      <td>-0.005771</td>\n",
       "      <td>0.999975</td>\n",
       "      <td>0.999962</td>\n",
       "      <td>1.000000</td>\n",
       "      <td>-0.017340</td>\n",
       "      <td>0.686203</td>\n",
       "      <td>0.673348</td>\n",
       "      <td>0.647758</td>\n",
       "      <td>0.665820</td>\n",
       "      <td>0.693420</td>\n",
       "      <td>0.669222</td>\n",
       "      <td>-0.252593</td>\n",
       "      <td>-0.274375</td>\n",
       "      <td>-0.234824</td>\n",
       "      <td>-0.254318</td>\n",
       "      <td>0.009637</td>\n",
       "      <td>-0.247590</td>\n",
       "    </tr>\n",
       "    <tr>\n",
       "      <th>gbrd</th>\n",
       "      <td>-0.101377</td>\n",
       "      <td>-0.018648</td>\n",
       "      <td>-0.017930</td>\n",
       "      <td>-0.017340</td>\n",
       "      <td>1.000000</td>\n",
       "      <td>0.236553</td>\n",
       "      <td>0.029205</td>\n",
       "      <td>0.240872</td>\n",
       "      <td>0.067717</td>\n",
       "      <td>0.183178</td>\n",
       "      <td>-0.012428</td>\n",
       "      <td>-0.502302</td>\n",
       "      <td>-0.430454</td>\n",
       "      <td>-0.430989</td>\n",
       "      <td>0.068810</td>\n",
       "      <td>-0.056402</td>\n",
       "      <td>0.054482</td>\n",
       "    </tr>\n",
       "    <tr>\n",
       "      <th>temp</th>\n",
       "      <td>0.038206</td>\n",
       "      <td>0.686168</td>\n",
       "      <td>0.686640</td>\n",
       "      <td>0.686203</td>\n",
       "      <td>0.236553</td>\n",
       "      <td>1.000000</td>\n",
       "      <td>0.912569</td>\n",
       "      <td>0.973675</td>\n",
       "      <td>0.924794</td>\n",
       "      <td>0.992033</td>\n",
       "      <td>0.885985</td>\n",
       "      <td>-0.488758</td>\n",
       "      <td>-0.486059</td>\n",
       "      <td>-0.489973</td>\n",
       "      <td>-0.211059</td>\n",
       "      <td>-0.005993</td>\n",
       "      <td>-0.161034</td>\n",
       "    </tr>\n",
       "    <tr>\n",
       "      <th>dewp</th>\n",
       "      <td>0.095273</td>\n",
       "      <td>0.673406</td>\n",
       "      <td>0.673667</td>\n",
       "      <td>0.673348</td>\n",
       "      <td>0.029205</td>\n",
       "      <td>0.912569</td>\n",
       "      <td>1.000000</td>\n",
       "      <td>0.878393</td>\n",
       "      <td>0.989369</td>\n",
       "      <td>0.923329</td>\n",
       "      <td>0.989326</td>\n",
       "      <td>-0.094855</td>\n",
       "      <td>-0.113474</td>\n",
       "      <td>-0.156443</td>\n",
       "      <td>-0.261618</td>\n",
       "      <td>0.004195</td>\n",
       "      <td>-0.227307</td>\n",
       "    </tr>\n",
       "    <tr>\n",
       "      <th>tmax</th>\n",
       "      <td>0.098800</td>\n",
       "      <td>0.648240</td>\n",
       "      <td>0.648746</td>\n",
       "      <td>0.647758</td>\n",
       "      <td>0.240872</td>\n",
       "      <td>0.973675</td>\n",
       "      <td>0.878393</td>\n",
       "      <td>1.000000</td>\n",
       "      <td>0.905027</td>\n",
       "      <td>0.969766</td>\n",
       "      <td>0.840942</td>\n",
       "      <td>-0.501262</td>\n",
       "      <td>-0.509060</td>\n",
       "      <td>-0.589618</td>\n",
       "      <td>-0.176112</td>\n",
       "      <td>-0.000434</td>\n",
       "      <td>-0.090965</td>\n",
       "    </tr>\n",
       "    <tr>\n",
       "      <th>dmax</th>\n",
       "      <td>0.116716</td>\n",
       "      <td>0.666001</td>\n",
       "      <td>0.666329</td>\n",
       "      <td>0.665820</td>\n",
       "      <td>0.067717</td>\n",
       "      <td>0.924794</td>\n",
       "      <td>0.989369</td>\n",
       "      <td>0.905027</td>\n",
       "      <td>1.000000</td>\n",
       "      <td>0.932764</td>\n",
       "      <td>0.979504</td>\n",
       "      <td>-0.147672</td>\n",
       "      <td>-0.145741</td>\n",
       "      <td>-0.207868</td>\n",
       "      <td>-0.239951</td>\n",
       "      <td>0.004094</td>\n",
       "      <td>-0.194505</td>\n",
       "    </tr>\n",
       "    <tr>\n",
       "      <th>tmin</th>\n",
       "      <td>0.041337</td>\n",
       "      <td>0.693440</td>\n",
       "      <td>0.693842</td>\n",
       "      <td>0.693420</td>\n",
       "      <td>0.183178</td>\n",
       "      <td>0.992033</td>\n",
       "      <td>0.923329</td>\n",
       "      <td>0.969766</td>\n",
       "      <td>0.932764</td>\n",
       "      <td>1.000000</td>\n",
       "      <td>0.904959</td>\n",
       "      <td>-0.445734</td>\n",
       "      <td>-0.469226</td>\n",
       "      <td>-0.460874</td>\n",
       "      <td>-0.215892</td>\n",
       "      <td>-0.003873</td>\n",
       "      <td>-0.170888</td>\n",
       "    </tr>\n",
       "    <tr>\n",
       "      <th>dmin</th>\n",
       "      <td>0.086480</td>\n",
       "      <td>0.669194</td>\n",
       "      <td>0.669399</td>\n",
       "      <td>0.669222</td>\n",
       "      <td>-0.012428</td>\n",
       "      <td>0.885985</td>\n",
       "      <td>0.989326</td>\n",
       "      <td>0.840942</td>\n",
       "      <td>0.979504</td>\n",
       "      <td>0.904959</td>\n",
       "      <td>1.000000</td>\n",
       "      <td>-0.051503</td>\n",
       "      <td>-0.068671</td>\n",
       "      <td>-0.079257</td>\n",
       "      <td>-0.260913</td>\n",
       "      <td>0.003839</td>\n",
       "      <td>-0.244429</td>\n",
       "    </tr>\n",
       "    <tr>\n",
       "      <th>hmdy</th>\n",
       "      <td>0.120470</td>\n",
       "      <td>-0.252436</td>\n",
       "      <td>-0.253005</td>\n",
       "      <td>-0.252593</td>\n",
       "      <td>-0.502302</td>\n",
       "      <td>-0.488758</td>\n",
       "      <td>-0.094855</td>\n",
       "      <td>-0.501262</td>\n",
       "      <td>-0.147672</td>\n",
       "      <td>-0.445734</td>\n",
       "      <td>-0.051503</td>\n",
       "      <td>1.000000</td>\n",
       "      <td>0.945930</td>\n",
       "      <td>0.879070</td>\n",
       "      <td>-0.051269</td>\n",
       "      <td>0.020432</td>\n",
       "      <td>-0.104886</td>\n",
       "    </tr>\n",
       "    <tr>\n",
       "      <th>hmax</th>\n",
       "      <td>0.110237</td>\n",
       "      <td>-0.274324</td>\n",
       "      <td>-0.274764</td>\n",
       "      <td>-0.274375</td>\n",
       "      <td>-0.430454</td>\n",
       "      <td>-0.486059</td>\n",
       "      <td>-0.113474</td>\n",
       "      <td>-0.509060</td>\n",
       "      <td>-0.145741</td>\n",
       "      <td>-0.469226</td>\n",
       "      <td>-0.068671</td>\n",
       "      <td>0.945930</td>\n",
       "      <td>1.000000</td>\n",
       "      <td>0.864243</td>\n",
       "      <td>-0.037756</td>\n",
       "      <td>0.020829</td>\n",
       "      <td>-0.087310</td>\n",
       "    </tr>\n",
       "    <tr>\n",
       "      <th>hmin</th>\n",
       "      <td>-0.004074</td>\n",
       "      <td>-0.235612</td>\n",
       "      <td>-0.236178</td>\n",
       "      <td>-0.234824</td>\n",
       "      <td>-0.430989</td>\n",
       "      <td>-0.489973</td>\n",
       "      <td>-0.156443</td>\n",
       "      <td>-0.589618</td>\n",
       "      <td>-0.207868</td>\n",
       "      <td>-0.460874</td>\n",
       "      <td>-0.079257</td>\n",
       "      <td>0.879070</td>\n",
       "      <td>0.864243</td>\n",
       "      <td>1.000000</td>\n",
       "      <td>-0.048856</td>\n",
       "      <td>0.001246</td>\n",
       "      <td>-0.173687</td>\n",
       "    </tr>\n",
       "    <tr>\n",
       "      <th>wdsp</th>\n",
       "      <td>0.013602</td>\n",
       "      <td>-0.253655</td>\n",
       "      <td>-0.253610</td>\n",
       "      <td>-0.254318</td>\n",
       "      <td>0.068810</td>\n",
       "      <td>-0.211059</td>\n",
       "      <td>-0.261618</td>\n",
       "      <td>-0.176112</td>\n",
       "      <td>-0.239951</td>\n",
       "      <td>-0.215892</td>\n",
       "      <td>-0.260913</td>\n",
       "      <td>-0.051269</td>\n",
       "      <td>-0.037756</td>\n",
       "      <td>-0.048856</td>\n",
       "      <td>1.000000</td>\n",
       "      <td>0.069139</td>\n",
       "      <td>0.840164</td>\n",
       "    </tr>\n",
       "    <tr>\n",
       "      <th>wdct</th>\n",
       "      <td>0.003536</td>\n",
       "      <td>0.010064</td>\n",
       "      <td>0.009748</td>\n",
       "      <td>0.009637</td>\n",
       "      <td>-0.056402</td>\n",
       "      <td>-0.005993</td>\n",
       "      <td>0.004195</td>\n",
       "      <td>-0.000434</td>\n",
       "      <td>0.004094</td>\n",
       "      <td>-0.003873</td>\n",
       "      <td>0.003839</td>\n",
       "      <td>0.020432</td>\n",
       "      <td>0.020829</td>\n",
       "      <td>0.001246</td>\n",
       "      <td>0.069139</td>\n",
       "      <td>1.000000</td>\n",
       "      <td>0.085447</td>\n",
       "    </tr>\n",
       "    <tr>\n",
       "      <th>gust</th>\n",
       "      <td>0.150296</td>\n",
       "      <td>-0.246182</td>\n",
       "      <td>-0.245974</td>\n",
       "      <td>-0.247590</td>\n",
       "      <td>0.054482</td>\n",
       "      <td>-0.161034</td>\n",
       "      <td>-0.227307</td>\n",
       "      <td>-0.090965</td>\n",
       "      <td>-0.194505</td>\n",
       "      <td>-0.170888</td>\n",
       "      <td>-0.244429</td>\n",
       "      <td>-0.104886</td>\n",
       "      <td>-0.087310</td>\n",
       "      <td>-0.173687</td>\n",
       "      <td>0.840164</td>\n",
       "      <td>0.085447</td>\n",
       "      <td>1.000000</td>\n",
       "    </tr>\n",
       "  </tbody>\n",
       "</table>\n",
       "</div>"
      ],
      "text/plain": [
       "          prcp       stp      smax      smin      gbrd      temp      dewp  \\\n",
       "prcp  1.000000 -0.004464 -0.004013 -0.005771 -0.101377  0.038206  0.095273   \n",
       "stp  -0.004464  1.000000  0.999971  0.999975 -0.018648  0.686168  0.673406   \n",
       "smax -0.004013  0.999971  1.000000  0.999962 -0.017930  0.686640  0.673667   \n",
       "smin -0.005771  0.999975  0.999962  1.000000 -0.017340  0.686203  0.673348   \n",
       "gbrd -0.101377 -0.018648 -0.017930 -0.017340  1.000000  0.236553  0.029205   \n",
       "temp  0.038206  0.686168  0.686640  0.686203  0.236553  1.000000  0.912569   \n",
       "dewp  0.095273  0.673406  0.673667  0.673348  0.029205  0.912569  1.000000   \n",
       "tmax  0.098800  0.648240  0.648746  0.647758  0.240872  0.973675  0.878393   \n",
       "dmax  0.116716  0.666001  0.666329  0.665820  0.067717  0.924794  0.989369   \n",
       "tmin  0.041337  0.693440  0.693842  0.693420  0.183178  0.992033  0.923329   \n",
       "dmin  0.086480  0.669194  0.669399  0.669222 -0.012428  0.885985  0.989326   \n",
       "hmdy  0.120470 -0.252436 -0.253005 -0.252593 -0.502302 -0.488758 -0.094855   \n",
       "hmax  0.110237 -0.274324 -0.274764 -0.274375 -0.430454 -0.486059 -0.113474   \n",
       "hmin -0.004074 -0.235612 -0.236178 -0.234824 -0.430989 -0.489973 -0.156443   \n",
       "wdsp  0.013602 -0.253655 -0.253610 -0.254318  0.068810 -0.211059 -0.261618   \n",
       "wdct  0.003536  0.010064  0.009748  0.009637 -0.056402 -0.005993  0.004195   \n",
       "gust  0.150296 -0.246182 -0.245974 -0.247590  0.054482 -0.161034 -0.227307   \n",
       "\n",
       "          tmax      dmax      tmin      dmin      hmdy      hmax      hmin  \\\n",
       "prcp  0.098800  0.116716  0.041337  0.086480  0.120470  0.110237 -0.004074   \n",
       "stp   0.648240  0.666001  0.693440  0.669194 -0.252436 -0.274324 -0.235612   \n",
       "smax  0.648746  0.666329  0.693842  0.669399 -0.253005 -0.274764 -0.236178   \n",
       "smin  0.647758  0.665820  0.693420  0.669222 -0.252593 -0.274375 -0.234824   \n",
       "gbrd  0.240872  0.067717  0.183178 -0.012428 -0.502302 -0.430454 -0.430989   \n",
       "temp  0.973675  0.924794  0.992033  0.885985 -0.488758 -0.486059 -0.489973   \n",
       "dewp  0.878393  0.989369  0.923329  0.989326 -0.094855 -0.113474 -0.156443   \n",
       "tmax  1.000000  0.905027  0.969766  0.840942 -0.501262 -0.509060 -0.589618   \n",
       "dmax  0.905027  1.000000  0.932764  0.979504 -0.147672 -0.145741 -0.207868   \n",
       "tmin  0.969766  0.932764  1.000000  0.904959 -0.445734 -0.469226 -0.460874   \n",
       "dmin  0.840942  0.979504  0.904959  1.000000 -0.051503 -0.068671 -0.079257   \n",
       "hmdy -0.501262 -0.147672 -0.445734 -0.051503  1.000000  0.945930  0.879070   \n",
       "hmax -0.509060 -0.145741 -0.469226 -0.068671  0.945930  1.000000  0.864243   \n",
       "hmin -0.589618 -0.207868 -0.460874 -0.079257  0.879070  0.864243  1.000000   \n",
       "wdsp -0.176112 -0.239951 -0.215892 -0.260913 -0.051269 -0.037756 -0.048856   \n",
       "wdct -0.000434  0.004094 -0.003873  0.003839  0.020432  0.020829  0.001246   \n",
       "gust -0.090965 -0.194505 -0.170888 -0.244429 -0.104886 -0.087310 -0.173687   \n",
       "\n",
       "          wdsp      wdct      gust  \n",
       "prcp  0.013602  0.003536  0.150296  \n",
       "stp  -0.253655  0.010064 -0.246182  \n",
       "smax -0.253610  0.009748 -0.245974  \n",
       "smin -0.254318  0.009637 -0.247590  \n",
       "gbrd  0.068810 -0.056402  0.054482  \n",
       "temp -0.211059 -0.005993 -0.161034  \n",
       "dewp -0.261618  0.004195 -0.227307  \n",
       "tmax -0.176112 -0.000434 -0.090965  \n",
       "dmax -0.239951  0.004094 -0.194505  \n",
       "tmin -0.215892 -0.003873 -0.170888  \n",
       "dmin -0.260913  0.003839 -0.244429  \n",
       "hmdy -0.051269  0.020432 -0.104886  \n",
       "hmax -0.037756  0.020829 -0.087310  \n",
       "hmin -0.048856  0.001246 -0.173687  \n",
       "wdsp  1.000000  0.069139  0.840164  \n",
       "wdct  0.069139  1.000000  0.085447  \n",
       "gust  0.840164  0.085447  1.000000  "
      ]
     },
     "execution_count": 17,
     "metadata": {},
     "output_type": "execute_result"
    }
   ],
   "source": [
    "((dataset - dataset.mean())/dataset.std()).cov()"
   ]
  },
  {
   "cell_type": "code",
   "execution_count": 18,
   "metadata": {},
   "outputs": [],
   "source": [
    "dataset = dataset.reset_index().drop(columns='mdct')"
   ]
  },
  {
   "cell_type": "code",
   "execution_count": 19,
   "metadata": {},
   "outputs": [
    {
     "name": "stderr",
     "output_type": "stream",
     "text": [
      "C:\\Users\\Thiago\\Anaconda3\\lib\\site-packages\\sklearn\\model_selection\\_split.py:2179: FutureWarning: From version 0.21, test_size will always complement train_size unless both are specified.\n",
      "  FutureWarning)\n"
     ]
    }
   ],
   "source": [
    "X_train, X_test, y_train, y_test = train_test_split(dataset[dataset.columns[1:]], dataset[dataset.columns[0]], train_size=0.01, random_state=42)"
   ]
  },
  {
   "cell_type": "code",
   "execution_count": 20,
   "metadata": {},
   "outputs": [
    {
     "data": {
      "text/plain": [
       "<matplotlib.axes._subplots.AxesSubplot at 0x26abb0e1fd0>"
      ]
     },
     "execution_count": 20,
     "metadata": {},
     "output_type": "execute_result"
    },
    {
     "data": {
      "image/png": "[encoded data removed]",
      "text/plain": [
       "<Figure size 432x288 with 1 Axes>"
      ]
     },
     "metadata": {
      "needs_background": "light"
     },
     "output_type": "display_data"
    }
   ],
   "source": [
    "sns.distplot(y_train)"
   ]
  },
  {
   "cell_type": "code",
   "execution_count": 21,
   "metadata": {},
   "outputs": [],
   "source": [
    "y_train = y_train > 10\n",
    "y_test = y_test > 10"
   ]
  },
  {
   "cell_type": "code",
   "execution_count": 22,
   "metadata": {},
   "outputs": [
    {
     "data": {
      "text/plain": [
       "PCA(copy=True, iterated_power='auto', n_components=0.9, random_state=None,\n",
       "  svd_solver='auto', tol=0.0, whiten=False)"
      ]
     },
     "execution_count": 22,
     "metadata": {},
     "output_type": "execute_result"
    }
   ],
   "source": [
    "pca = PCA(0.9)\n",
    "standardScaler = StandardScaler()\n",
    "standardScaler.fit(X_train)\n",
    "pca.fit(standardScaler.transform(X_train))"
   ]
  },
  {
   "cell_type": "code",
   "execution_count": 23,
   "metadata": {},
   "outputs": [
    {
     "name": "stdout",
     "output_type": "stream",
     "text": [
      "Wall time: 17.5 ms\n"
     ]
    },
    {
     "name": "stderr",
     "output_type": "stream",
     "text": [
      "C:\\Users\\Thiago\\Anaconda3\\lib\\site-packages\\sklearn\\svm\\base.py:196: FutureWarning: The default value of gamma will change from 'auto' to 'scale' in version 0.22 to account better for unscaled features. Set gamma explicitly to 'auto' or 'scale' to avoid this warning.\n",
      "  \"avoid this warning.\", FutureWarning)\n"
     ]
    },
    {
     "data": {
      "text/plain": [
       "SVC(C=1.0, cache_size=200, class_weight=None, coef0=0.0,\n",
       "  decision_function_shape='ovr', degree=3, gamma='auto_deprecated',\n",
       "  kernel='rbf', max_iter=-1, probability=False, random_state=None,\n",
       "  shrinking=True, tol=0.001, verbose=False)"
      ]
     },
     "execution_count": 23,
     "metadata": {},
     "output_type": "execute_result"
    }
   ],
   "source": [
    "svc = SVC()\n",
    "%time svc.fit(pca.transform(standardScaler.transform(X_train)), y_train)"
   ]
  },
  {
   "cell_type": "code",
   "execution_count": 24,
   "metadata": {},
   "outputs": [],
   "source": [
    "y_pred = svc.predict(pca.transform(standardScaler.transform(X_train)))"
   ]
  },
  {
   "cell_type": "code",
   "execution_count": 25,
   "metadata": {},
   "outputs": [
    {
     "data": {
      "text/plain": [
       "array([[911,   0],\n",
       "       [ 36,   0]], dtype=int64)"
      ]
     },
     "execution_count": 25,
     "metadata": {},
     "output_type": "execute_result"
    }
   ],
   "source": [
    "confusion_matrix(y_train, y_pred)"
   ]
  },
  {
   "cell_type": "code",
   "execution_count": 26,
   "metadata": {},
   "outputs": [
    {
     "data": {
      "text/plain": [
       "<matplotlib.axes._subplots.AxesSubplot at 0x26b37ec5828>"
      ]
     },
     "execution_count": 26,
     "metadata": {},
     "output_type": "execute_result"
    },
    {
     "data": {
      "image/png": "[encoded data removed]",
      "text/plain": [
       "<Figure size 432x288 with 2 Axes>"
      ]
     },
     "metadata": {
      "needs_background": "light"
     },
     "output_type": "display_data"
    }
   ],
   "source": [
    "sns.heatmap(confusion_matrix(y_train, y_pred), cmap='coolwarm', annot=True)"
   ]
  },
  {
   "cell_type": "code",
   "execution_count": 27,
   "metadata": {},
   "outputs": [],
   "source": [
    "y_pred = svc.predict(pca.transform(standardScaler.transform(X_test)))"
   ]
  },
  {
   "cell_type": "code",
   "execution_count": 28,
   "metadata": {},
   "outputs": [
    {
     "data": {
      "text/plain": [
       "array([[90856,     0],\n",
       "       [ 2977,     0]], dtype=int64)"
      ]
     },
     "execution_count": 28,
     "metadata": {},
     "output_type": "execute_result"
    }
   ],
   "source": [
    "confusion_matrix(y_test, y_pred)"
   ]
  },
  {
   "cell_type": "code",
   "execution_count": 29,
   "metadata": {},
   "outputs": [
    {
     "data": {
      "text/plain": [
       "<matplotlib.axes._subplots.AxesSubplot at 0x26a86e5a5f8>"
      ]
     },
     "execution_count": 29,
     "metadata": {},
     "output_type": "execute_result"
    },
    {
     "data": {
      "image/png": "[encoded data removed]",
      "text/plain": [
       "<Figure size 432x288 with 2 Axes>"
      ]
     },
     "metadata": {
      "needs_background": "light"
     },
     "output_type": "display_data"
    }
   ],
   "source": [
    "sns.heatmap(confusion_matrix(y_test, y_pred), cmap='coolwarm', annot=True)"
   ]
  },
  {
   "cell_type": "code",
   "execution_count": 30,
   "metadata": {},
   "outputs": [],
   "source": [
    "transformed_X_train = pca.transform(standardScaler.transform(X_train))"
   ]
  },
  {
   "cell_type": "code",
   "execution_count": 31,
   "metadata": {},
   "outputs": [
    {
     "name": "stdout",
     "output_type": "stream",
     "text": [
      "Fitting 10 folds for each of 255 candidates, totalling 2550 fits\n"
     ]
    },
    {
     "name": "stderr",
     "output_type": "stream",
     "text": [
      "[Parallel(n_jobs=1)]: Using backend SequentialBackend with 1 concurrent workers.\n",
      "[Parallel(n_jobs=1)]: Done 2550 out of 2550 | elapsed:  1.3min finished\n"
     ]
    },
    {
     "data": {
      "text/plain": [
       "GridSearchCV(cv=10, error_score='raise-deprecating',\n",
       "       estimator=SVC(C=1.0, cache_size=200, class_weight=None, coef0=0.0,\n",
       "  decision_function_shape='ovr', degree=3, gamma='auto_deprecated',\n",
       "  kernel='rbf', max_iter=-1, probability=False, random_state=None,\n",
       "  shrinking=True, tol=0.001, verbose=False),\n",
       "       fit_params=None, iid='warn', n_jobs=1,\n",
       "       param_grid={'C': array([3.125e-02, 6.250e-02, 1.250e-01, 2.500e-01, 5.000e-01, 1.000e+00,\n",
       "       2.000e+00, 4.000e+00, 8.000e+00, 1.600e+01, 3.200e+01, 6.400e+01,\n",
       "       1.280e+02, 2.560e+02, 5.120e+02, 1.024e+03, 2.048e+03]), 'gamma': array([1.22070e-04, 2.44141e-04, 4.88281e-04, 9.76562e-04, 1.95312e-03,\n",
       "       3.90625e-03, 7.81250e-03, 1.56250e-02, 3.12500e-02, 6.25000e-02,\n",
       "       1.25000e-01, 2.50000e-01, 5.00000e-01, 1.00000e+00, 2.00000e+00])},\n",
       "       pre_dispatch='2*n_jobs', refit=True, return_train_score='warn',\n",
       "       scoring=None, verbose=True)"
      ]
     },
     "execution_count": 31,
     "metadata": {},
     "output_type": "execute_result"
    }
   ],
   "source": [
    "p_cs = 2. ** np.arange(-5,12)\n",
    "p_gammas = 2. ** np.arange(-13,2)\n",
    "model_cv=GridSearchCV(SVC(kernel='rbf'),{'C':p_cs,'gamma':p_gammas},cv=10,verbose=True, n_jobs=1)\n",
    "model_cv.fit(transformed_X_train, y_train)"
   ]
  },
  {
   "cell_type": "code",
   "execution_count": 32,
   "metadata": {},
   "outputs": [
    {
     "data": {
      "text/plain": [
       "{'C': 0.03125, 'gamma': 0.0001220703125}"
      ]
     },
     "execution_count": 32,
     "metadata": {},
     "output_type": "execute_result"
    }
   ],
   "source": [
    "model_cv.best_params_"
   ]
  },
  {
   "cell_type": "code",
   "execution_count": 33,
   "metadata": {},
   "outputs": [],
   "source": [
    "y_pred = model_cv.predict(pca.transform(standardScaler.transform(X_train)))"
   ]
  },
  {
   "cell_type": "code",
   "execution_count": 34,
   "metadata": {},
   "outputs": [
    {
     "data": {
      "text/plain": [
       "array([[911,   0],\n",
       "       [ 36,   0]], dtype=int64)"
      ]
     },
     "execution_count": 34,
     "metadata": {},
     "output_type": "execute_result"
    }
   ],
   "source": [
    "confusion_matrix(y_train, y_pred)"
   ]
  },
  {
   "cell_type": "code",
   "execution_count": 35,
   "metadata": {},
   "outputs": [
    {
     "data": {
      "text/plain": [
       "<matplotlib.axes._subplots.AxesSubplot at 0x26a86ecff98>"
      ]
     },
     "execution_count": 35,
     "metadata": {},
     "output_type": "execute_result"
    },
    {
     "data": {
      "image/png": "[encoded data removed]",
      "text/plain": [
       "<Figure size 432x288 with 2 Axes>"
      ]
     },
     "metadata": {
      "needs_background": "light"
     },
     "output_type": "display_data"
    }
   ],
   "source": [
    "sns.heatmap(confusion_matrix(y_train, y_pred), cmap='coolwarm', annot=True)"
   ]
  },
  {
   "cell_type": "code",
   "execution_count": 36,
   "metadata": {},
   "outputs": [],
   "source": [
    "y_pred = model_cv.predict(pca.transform(standardScaler.transform(X_test)))"
   ]
  },
  {
   "cell_type": "code",
   "execution_count": 37,
   "metadata": {},
   "outputs": [
    {
     "data": {
      "text/plain": [
       "array([[90856,     0],\n",
       "       [ 2977,     0]], dtype=int64)"
      ]
     },
     "execution_count": 37,
     "metadata": {},
     "output_type": "execute_result"
    }
   ],
   "source": [
    "confusion_matrix(y_test, y_pred)"
   ]
  },
  {
   "cell_type": "code",
   "execution_count": 38,
   "metadata": {},
   "outputs": [
    {
     "data": {
      "text/plain": [
       "<matplotlib.axes._subplots.AxesSubplot at 0x26a87bd8860>"
      ]
     },
     "execution_count": 38,
     "metadata": {},
     "output_type": "execute_result"
    },
    {
     "data": {
      "image/png": "[encoded data removed]",
      "text/plain": [
       "<Figure size 432x288 with 2 Axes>"
      ]
     },
     "metadata": {
      "needs_background": "light"
     },
     "output_type": "display_data"
    }
   ],
   "source": [
    "sns.heatmap(confusion_matrix(y_test, y_pred), cmap='coolwarm', annot=True)"
   ]
  },
  {
   "cell_type": "code",
   "execution_count": 39,
   "metadata": {},
   "outputs": [
    {
     "name": "stdout",
     "output_type": "stream",
     "text": [
      "Wall time: 27.9 ms\n"
     ]
    },
    {
     "name": "stderr",
     "output_type": "stream",
     "text": [
      "C:\\Users\\Thiago\\Anaconda3\\lib\\site-packages\\sklearn\\svm\\base.py:196: FutureWarning: The default value of gamma will change from 'auto' to 'scale' in version 0.22 to account better for unscaled features. Set gamma explicitly to 'auto' or 'scale' to avoid this warning.\n",
      "  \"avoid this warning.\", FutureWarning)\n"
     ]
    },
    {
     "data": {
      "text/plain": [
       "SVC(C=1.0, cache_size=200, class_weight='balanced', coef0=0.0,\n",
       "  decision_function_shape='ovr', degree=3, gamma='auto_deprecated',\n",
       "  kernel='rbf', max_iter=-1, probability=False, random_state=None,\n",
       "  shrinking=True, tol=0.001, verbose=False)"
      ]
     },
     "execution_count": 39,
     "metadata": {},
     "output_type": "execute_result"
    }
   ],
   "source": [
    "svc = SVC(class_weight='balanced')\n",
    "%time svc.fit(pca.transform(standardScaler.transform(X_train)), y_train)"
   ]
  },
  {
   "cell_type": "code",
   "execution_count": 40,
   "metadata": {},
   "outputs": [
    {
     "data": {
      "text/plain": [
       "<matplotlib.axes._subplots.AxesSubplot at 0x26a86f8e2e8>"
      ]
     },
     "execution_count": 40,
     "metadata": {},
     "output_type": "execute_result"
    },
    {
     "data": {
      "image/png": "[encoded data removed]",
      "text/plain": [
       "<Figure size 432x288 with 2 Axes>"
      ]
     },
     "metadata": {
      "needs_background": "light"
     },
     "output_type": "display_data"
    }
   ],
   "source": [
    "y_pred = svc.predict(pca.transform(standardScaler.transform(X_train)))\n",
    "sns.heatmap(confusion_matrix(y_train, y_pred), cmap='coolwarm', annot=True)"
   ]
  },
  {
   "cell_type": "code",
   "execution_count": 41,
   "metadata": {},
   "outputs": [
    {
     "data": {
      "text/plain": [
       "<matplotlib.axes._subplots.AxesSubplot at 0x26a87a5d748>"
      ]
     },
     "execution_count": 41,
     "metadata": {},
     "output_type": "execute_result"
    },
    {
     "data": {
      "image/png": "[encoded data removed]",
      "text/plain": [
       "<Figure size 432x288 with 2 Axes>"
      ]
     },
     "metadata": {
      "needs_background": "light"
     },
     "output_type": "display_data"
    }
   ],
   "source": [
    "y_pred = svc.predict(pca.transform(standardScaler.transform(X_test)))\n",
    "sns.heatmap(confusion_matrix(y_test, y_pred), cmap='coolwarm', annot=True)"
   ]
  },
  {
   "cell_type": "code",
   "execution_count": 42,
   "metadata": {},
   "outputs": [
    {
     "name": "stdout",
     "output_type": "stream",
     "text": [
      "Fitting 10 folds for each of 255 candidates, totalling 2550 fits\n"
     ]
    },
    {
     "name": "stderr",
     "output_type": "stream",
     "text": [
      "[Parallel(n_jobs=3)]: Using backend LokyBackend with 3 concurrent workers.\n",
      "[Parallel(n_jobs=3)]: Done 162 tasks      | elapsed:    3.0s\n",
      "[Parallel(n_jobs=3)]: Done 1362 tasks      | elapsed:   12.0s\n",
      "[Parallel(n_jobs=3)]: Done 2550 out of 2550 | elapsed:   22.1s finished\n",
      "C:\\Users\\Thiago\\Anaconda3\\lib\\site-packages\\sklearn\\model_selection\\_search.py:841: DeprecationWarning: The default of the `iid` parameter will change from True to False in version 0.22 and will be removed in 0.24. This will change numeric results when test-set sizes are unequal.\n",
      "  DeprecationWarning)\n"
     ]
    },
    {
     "data": {
      "text/plain": [
       "GridSearchCV(cv=10, error_score='raise-deprecating',\n",
       "       estimator=SVC(C=1.0, cache_size=200, class_weight=None, coef0=0.0,\n",
       "  decision_function_shape='ovr', degree=3, gamma='auto_deprecated',\n",
       "  kernel='rbf', max_iter=-1, probability=False, random_state=None,\n",
       "  shrinking=True, tol=0.001, verbose=False),\n",
       "       fit_params=None, iid='warn', n_jobs=3,\n",
       "       param_grid={'C': array([3.125e-02, 6.250e-02, 1.250e-01, 2.500e-01, 5.000e-01, 1.000e+00,\n",
       "       2.000e+00, 4.000e+00, 8.000e+00, 1.600e+01, 3.200e+01, 6.400e+01,\n",
       "       1.280e+02, 2.560e+02, 5.120e+02, 1.024e+03, 2.048e+03]), 'gamma': array([1.22070e-04, 2.44141e-04, 4.88281e-04, 9.76562e-04, 1.95312e-03,\n",
       "       3.90625e-03, 7.81250e-03, 1.56250e-02, 3.12500e-02, 6.25000e-02,\n",
       "       1.25000e-01, 2.50000e-01, 5.00000e-01, 1.00000e+00, 2.00000e+00]), 'class_weight': ['balanced']},\n",
       "       pre_dispatch='2*n_jobs', refit=True, return_train_score='warn',\n",
       "       scoring=None, verbose=True)"
      ]
     },
     "execution_count": 42,
     "metadata": {},
     "output_type": "execute_result"
    }
   ],
   "source": [
    "p_cs = 2. ** np.arange(-5,12)\n",
    "p_gammas = 2. ** np.arange(-13,2)\n",
    "p_class_weight= ['balanced']\n",
    "model_cv=GridSearchCV(SVC(kernel='rbf'),{'C':p_cs,'gamma':p_gammas, 'class_weight': p_class_weight},cv=10,verbose=True, n_jobs=3)\n",
    "model_cv.fit(transformed_X_train, y_train)"
   ]
  },
  {
   "cell_type": "code",
   "execution_count": 43,
   "metadata": {},
   "outputs": [
    {
     "data": {
      "text/plain": [
       "{'C': 2.0, 'class_weight': 'balanced', 'gamma': 2.0}"
      ]
     },
     "execution_count": 43,
     "metadata": {},
     "output_type": "execute_result"
    }
   ],
   "source": [
    "model_cv.best_params_"
   ]
  },
  {
   "cell_type": "code",
   "execution_count": 44,
   "metadata": {},
   "outputs": [
    {
     "data": {
      "text/plain": [
       "<matplotlib.axes._subplots.AxesSubplot at 0x26a87c90550>"
      ]
     },
     "execution_count": 44,
     "metadata": {},
     "output_type": "execute_result"
    },
    {
     "data": {
      "image/png": "[encoded data removed]",
      "text/plain": [
       "<Figure size 432x288 with 2 Axes>"
      ]
     },
     "metadata": {
      "needs_background": "light"
     },
     "output_type": "display_data"
    }
   ],
   "source": [
    "y_pred = svc.predict(pca.transform(standardScaler.transform(X_train)))\n",
    "sns.heatmap(confusion_matrix(y_train, y_pred), cmap='coolwarm', annot=True)"
   ]
  },
  {
   "cell_type": "code",
   "execution_count": 45,
   "metadata": {},
   "outputs": [
    {
     "data": {
      "text/plain": [
       "<matplotlib.axes._subplots.AxesSubplot at 0x26a87d143c8>"
      ]
     },
     "execution_count": 45,
     "metadata": {},
     "output_type": "execute_result"
    },
    {
     "data": {
      "image/png": "[encoded data removed]",
      "text/plain": [
       "<Figure size 432x288 with 2 Axes>"
      ]
     },
     "metadata": {
      "needs_background": "light"
     },
     "output_type": "display_data"
    }
   ],
   "source": [
    "y_pred = svc.predict(pca.transform(standardScaler.transform(X_test)))\n",
    "sns.heatmap(confusion_matrix(y_test, y_pred), cmap='coolwarm', annot=True)"
   ]
  },
  {
   "cell_type": "code",
   "execution_count": 46,
   "metadata": {},
   "outputs": [
    {
     "data": {
      "text/plain": [
       "(36,)"
      ]
     },
     "execution_count": 46,
     "metadata": {},
     "output_type": "execute_result"
    }
   ],
   "source": [
    "y_train[y_train].shape"
   ]
  },
  {
   "cell_type": "code",
   "execution_count": 47,
   "metadata": {},
   "outputs": [],
   "source": [
    "false = np.random.choice(y_train[~y_train].index, size = y_train[y_train].shape[0])"
   ]
  },
  {
   "cell_type": "code",
   "execution_count": 48,
   "metadata": {},
   "outputs": [],
   "source": [
    "y_train_sub = pd.Series(np.hstack((y_train[y_train], y_train.loc[false])), index=np.hstack((y_train[y_train].index, y_train.loc[false].index)))"
   ]
  },
  {
   "cell_type": "code",
   "execution_count": 49,
   "metadata": {},
   "outputs": [
    {
     "data": {
      "text/plain": [
       "PCA(copy=True, iterated_power='auto', n_components=0.9, random_state=None,\n",
       "  svd_solver='auto', tol=0.0, whiten=False)"
      ]
     },
     "execution_count": 49,
     "metadata": {},
     "output_type": "execute_result"
    }
   ],
   "source": [
    "pca = PCA(.9)\n",
    "standardScaler = StandardScaler()\n",
    "standardScaler.fit(X_train)\n",
    "pca.fit(standardScaler.transform(X_train))"
   ]
  },
  {
   "cell_type": "code",
   "execution_count": 50,
   "metadata": {},
   "outputs": [
    {
     "name": "stdout",
     "output_type": "stream",
     "text": [
      "Wall time: 1.99 ms\n"
     ]
    },
    {
     "name": "stderr",
     "output_type": "stream",
     "text": [
      "C:\\Users\\Thiago\\Anaconda3\\lib\\site-packages\\sklearn\\svm\\base.py:196: FutureWarning: The default value of gamma will change from 'auto' to 'scale' in version 0.22 to account better for unscaled features. Set gamma explicitly to 'auto' or 'scale' to avoid this warning.\n",
      "  \"avoid this warning.\", FutureWarning)\n"
     ]
    },
    {
     "data": {
      "text/plain": [
       "SVC(C=1.0, cache_size=200, class_weight=None, coef0=0.0,\n",
       "  decision_function_shape='ovr', degree=3, gamma='auto_deprecated',\n",
       "  kernel='rbf', max_iter=-1, probability=False, random_state=None,\n",
       "  shrinking=True, tol=0.001, verbose=False)"
      ]
     },
     "execution_count": 50,
     "metadata": {},
     "output_type": "execute_result"
    }
   ],
   "source": [
    "svc = SVC()\n",
    "%time svc.fit(pca.transform(standardScaler.transform(X_train.loc[y_train_sub.index])), y_train.loc[y_train_sub.index])"
   ]
  },
  {
   "cell_type": "code",
   "execution_count": 51,
   "metadata": {},
   "outputs": [
    {
     "data": {
      "text/plain": [
       "<matplotlib.axes._subplots.AxesSubplot at 0x26a87d8cfd0>"
      ]
     },
     "execution_count": 51,
     "metadata": {},
     "output_type": "execute_result"
    },
    {
     "data": {
      "image/png": "[encoded data removed]",
      "text/plain": [
       "<Figure size 432x288 with 2 Axes>"
      ]
     },
     "metadata": {
      "needs_background": "light"
     },
     "output_type": "display_data"
    }
   ],
   "source": [
    "y_pred = svc.predict(pca.transform(standardScaler.transform(X_train)))\n",
    "sns.heatmap(confusion_matrix(y_train, y_pred), cmap='coolwarm', annot=True)"
   ]
  },
  {
   "cell_type": "code",
   "execution_count": 52,
   "metadata": {},
   "outputs": [
    {
     "data": {
      "text/plain": [
       "<matplotlib.axes._subplots.AxesSubplot at 0x26a87c21080>"
      ]
     },
     "execution_count": 52,
     "metadata": {},
     "output_type": "execute_result"
    },
    {
     "data": {
      "image/png": "[encoded data removed]",
      "text/plain": [
       "<Figure size 432x288 with 2 Axes>"
      ]
     },
     "metadata": {
      "needs_background": "light"
     },
     "output_type": "display_data"
    }
   ],
   "source": [
    "y_pred = svc.predict(pca.transform(standardScaler.transform(X_test)))\n",
    "sns.heatmap(confusion_matrix(y_test, y_pred), cmap='coolwarm', annot=True)"
   ]
  },
  {
   "cell_type": "code",
   "execution_count": 53,
   "metadata": {},
   "outputs": [
    {
     "name": "stdout",
     "output_type": "stream",
     "text": [
      "Fitting 10 folds for each of 255 candidates, totalling 2550 fits\n"
     ]
    },
    {
     "name": "stderr",
     "output_type": "stream",
     "text": [
      "[Parallel(n_jobs=3)]: Using backend LokyBackend with 3 concurrent workers.\n",
      "[Parallel(n_jobs=3)]: Done 2550 out of 2550 | elapsed:    1.5s finished\n",
      "C:\\Users\\Thiago\\Anaconda3\\lib\\site-packages\\sklearn\\model_selection\\_search.py:841: DeprecationWarning: The default of the `iid` parameter will change from True to False in version 0.22 and will be removed in 0.24. This will change numeric results when test-set sizes are unequal.\n",
      "  DeprecationWarning)\n"
     ]
    },
    {
     "data": {
      "text/plain": [
       "GridSearchCV(cv=10, error_score='raise-deprecating',\n",
       "       estimator=SVC(C=1.0, cache_size=200, class_weight=None, coef0=0.0,\n",
       "  decision_function_shape='ovr', degree=3, gamma='auto_deprecated',\n",
       "  kernel='rbf', max_iter=-1, probability=False, random_state=None,\n",
       "  shrinking=True, tol=0.001, verbose=False),\n",
       "       fit_params=None, iid='warn', n_jobs=3,\n",
       "       param_grid={'C': array([3.125e-02, 6.250e-02, 1.250e-01, 2.500e-01, 5.000e-01, 1.000e+00,\n",
       "       2.000e+00, 4.000e+00, 8.000e+00, 1.600e+01, 3.200e+01, 6.400e+01,\n",
       "       1.280e+02, 2.560e+02, 5.120e+02, 1.024e+03, 2.048e+03]), 'gamma': array([1.22070e-04, 2.44141e-04, 4.88281e-04, 9.76562e-04, 1.95312e-03,\n",
       "       3.90625e-03, 7.81250e-03, 1.56250e-02, 3.12500e-02, 6.25000e-02,\n",
       "       1.25000e-01, 2.50000e-01, 5.00000e-01, 1.00000e+00, 2.00000e+00])},\n",
       "       pre_dispatch='2*n_jobs', refit=True, return_train_score='warn',\n",
       "       scoring=None, verbose=True)"
      ]
     },
     "execution_count": 53,
     "metadata": {},
     "output_type": "execute_result"
    }
   ],
   "source": [
    "p_cs = 2. ** np.arange(-5,12)\n",
    "p_gammas = 2. ** np.arange(-13,2)\n",
    "# p_epsilon = 1. ** np.arange(-5,5)\n",
    "model_cv=GridSearchCV(SVC(kernel='rbf'),{'C':p_cs,'gamma':p_gammas},cv=10,verbose=True, n_jobs=3)\n",
    "model_cv.fit(pca.transform(standardScaler.transform(X_train.loc[y_train_sub.index])), y_train.loc[y_train_sub.index])"
   ]
  },
  {
   "cell_type": "code",
   "execution_count": 54,
   "metadata": {},
   "outputs": [
    {
     "data": {
      "text/plain": [
       "{'C': 512.0, 'gamma': 0.001953125}"
      ]
     },
     "execution_count": 54,
     "metadata": {},
     "output_type": "execute_result"
    }
   ],
   "source": [
    "model_cv.best_params_"
   ]
  },
  {
   "cell_type": "code",
   "execution_count": 55,
   "metadata": {},
   "outputs": [
    {
     "data": {
      "text/plain": [
       "<matplotlib.axes._subplots.AxesSubplot at 0x26a87f91128>"
      ]
     },
     "execution_count": 55,
     "metadata": {},
     "output_type": "execute_result"
    },
    {
     "data": {
      "image/png": "[encoded data removed]",
      "text/plain": [
       "<Figure size 432x288 with 2 Axes>"
      ]
     },
     "metadata": {
      "needs_background": "light"
     },
     "output_type": "display_data"
    }
   ],
   "source": [
    "y_pred = model_cv.predict(pca.transform(standardScaler.transform(X_train)))\n",
    "sns.heatmap(confusion_matrix(y_train, y_pred), cmap='coolwarm', annot=True)"
   ]
  },
  {
   "cell_type": "code",
   "execution_count": 56,
   "metadata": {},
   "outputs": [
    {
     "data": {
      "text/plain": [
       "<matplotlib.axes._subplots.AxesSubplot at 0x26a87f7b6a0>"
      ]
     },
     "execution_count": 56,
     "metadata": {},
     "output_type": "execute_result"
    },
    {
     "data": {
      "image/png": "[encoded data removed]",
      "text/plain": [
       "<Figure size 432x288 with 2 Axes>"
      ]
     },
     "metadata": {
      "needs_background": "light"
     },
     "output_type": "display_data"
    }
   ],
   "source": [
    "y_pred = model_cv.predict(pca.transform(standardScaler.transform(X_test)))\n",
    "sns.heatmap(confusion_matrix(y_test, y_pred), cmap='coolwarm', annot=True)"
   ]
  },
  {
   "cell_type": "code",
   "execution_count": 57,
   "metadata": {},
   "outputs": [
    {
     "data": {
      "text/plain": [
       "(825,)"
      ]
     },
     "execution_count": 57,
     "metadata": {},
     "output_type": "execute_result"
    }
   ],
   "source": [
    "y_pred[(y_pred == 0) & (y_test == 1)].shape"
   ]
  },
  {
   "cell_type": "code",
   "execution_count": 58,
   "metadata": {},
   "outputs": [
    {
     "data": {
      "text/plain": [
       "121"
      ]
     },
     "execution_count": 58,
     "metadata": {},
     "output_type": "execute_result"
    }
   ],
   "source": [
    "(dataset.loc[y_test[(y_pred == 0) & (y_test == 1)].index]['prcp']<11).sum()"
   ]
  },
  {
   "cell_type": "code",
   "execution_count": 59,
   "metadata": {},
   "outputs": [
    {
     "data": {
      "text/plain": [
       "(38218,)"
      ]
     },
     "execution_count": 59,
     "metadata": {},
     "output_type": "execute_result"
    }
   ],
   "source": [
    "y_pred[(y_pred == 1) & (y_test == 0)].shape"
   ]
  },
  {
   "cell_type": "code",
   "execution_count": 60,
   "metadata": {},
   "outputs": [
    {
     "data": {
      "text/plain": [
       "322"
      ]
     },
     "execution_count": 60,
     "metadata": {},
     "output_type": "execute_result"
    }
   ],
   "source": [
    "(dataset.loc[y_test[(y_pred == 1) & (y_test == 0)].index]['prcp']>9).sum()"
   ]
  },
  {
   "cell_type": "code",
   "execution_count": 61,
   "metadata": {},
   "outputs": [
    {
     "data": {
      "text/plain": [
       "(911, 16)"
      ]
     },
     "execution_count": 61,
     "metadata": {},
     "output_type": "execute_result"
    }
   ],
   "source": [
    "X_train[~y_train].shape"
   ]
  },
  {
   "cell_type": "code",
   "execution_count": 62,
   "metadata": {},
   "outputs": [],
   "source": [
    "x1 = np.random.choice(X_train[y_train].index,300)\n",
    "x2 = np.random.choice(X_train[y_train].index,300)"
   ]
  },
  {
   "cell_type": "code",
   "execution_count": 63,
   "metadata": {},
   "outputs": [],
   "source": [
    "randx = np.random.uniform(size=(x2.shape[0],X_train.shape[1]))\n",
    "randy = np.random.uniform(size=x2.shape[0])"
   ]
  },
  {
   "cell_type": "code",
   "execution_count": 64,
   "metadata": {},
   "outputs": [],
   "source": [
    "x3 = X_train.loc[x1].values + randx * (X_train.loc[x2].values - X_train.loc[x1].values)\n",
    "y3 = np.full(x1.shape[0],True)"
   ]
  },
  {
   "cell_type": "code",
   "execution_count": 65,
   "metadata": {},
   "outputs": [],
   "source": [
    "X_train_over = np.vstack((X_train,x3))\n",
    "y_train_over = np.hstack((y_train.values,y3))"
   ]
  },
  {
   "cell_type": "code",
   "execution_count": 66,
   "metadata": {},
   "outputs": [
    {
     "data": {
      "text/plain": [
       "PCA(copy=True, iterated_power='auto', n_components=0.9, random_state=None,\n",
       "  svd_solver='auto', tol=0.0, whiten=False)"
      ]
     },
     "execution_count": 66,
     "metadata": {},
     "output_type": "execute_result"
    }
   ],
   "source": [
    "pca = PCA(0.9)\n",
    "standardScaler = StandardScaler()\n",
    "standardScaler.fit(X_train)\n",
    "pca.fit(standardScaler.transform(X_train))"
   ]
  },
  {
   "cell_type": "code",
   "execution_count": 67,
   "metadata": {},
   "outputs": [
    {
     "name": "stdout",
     "output_type": "stream",
     "text": [
      "Wall time: 19.9 ms\n"
     ]
    },
    {
     "name": "stderr",
     "output_type": "stream",
     "text": [
      "C:\\Users\\Thiago\\Anaconda3\\lib\\site-packages\\sklearn\\svm\\base.py:196: FutureWarning: The default value of gamma will change from 'auto' to 'scale' in version 0.22 to account better for unscaled features. Set gamma explicitly to 'auto' or 'scale' to avoid this warning.\n",
      "  \"avoid this warning.\", FutureWarning)\n"
     ]
    },
    {
     "data": {
      "text/plain": [
       "SVC(C=1.0, cache_size=200, class_weight=None, coef0=0.0,\n",
       "  decision_function_shape='ovr', degree=3, gamma='auto_deprecated',\n",
       "  kernel='rbf', max_iter=-1, probability=False, random_state=None,\n",
       "  shrinking=True, tol=0.001, verbose=False)"
      ]
     },
     "execution_count": 67,
     "metadata": {},
     "output_type": "execute_result"
    }
   ],
   "source": [
    "svc = SVC()\n",
    "%time svc.fit(pca.transform(standardScaler.transform(X_train_over)), y_train_over)"
   ]
  },
  {
   "cell_type": "code",
   "execution_count": 68,
   "metadata": {},
   "outputs": [
    {
     "data": {
      "text/plain": [
       "<matplotlib.axes._subplots.AxesSubplot at 0x26a86ee17b8>"
      ]
     },
     "execution_count": 68,
     "metadata": {},
     "output_type": "execute_result"
    },
    {
     "data": {
      "image/png": "[encoded data removed]",
      "text/plain": [
       "<Figure size 432x288 with 2 Axes>"
      ]
     },
     "metadata": {
      "needs_background": "light"
     },
     "output_type": "display_data"
    }
   ],
   "source": [
    "y_pred = svc.predict(pca.transform(standardScaler.transform(X_train_over)))\n",
    "sns.heatmap(confusion_matrix(y_train_over, y_pred), cmap='coolwarm', annot=True)"
   ]
  },
  {
   "cell_type": "code",
   "execution_count": 69,
   "metadata": {},
   "outputs": [
    {
     "data": {
      "text/plain": [
       "<matplotlib.axes._subplots.AxesSubplot at 0x26a8834c9e8>"
      ]
     },
     "execution_count": 69,
     "metadata": {},
     "output_type": "execute_result"
    },
    {
     "data": {
      "image/png": "[encoded data removed]",
      "text/plain": [
       "<Figure size 432x288 with 2 Axes>"
      ]
     },
     "metadata": {
      "needs_background": "light"
     },
     "output_type": "display_data"
    }
   ],
   "source": [
    "y_pred = svc.predict(pca.transform(standardScaler.transform(X_test)))\n",
    "sns.heatmap(confusion_matrix(y_test, y_pred), cmap='coolwarm', annot=True)"
   ]
  },
  {
   "cell_type": "code",
   "execution_count": 70,
   "metadata": {},
   "outputs": [
    {
     "name": "stdout",
     "output_type": "stream",
     "text": [
      "Fitting 10 folds for each of 255 candidates, totalling 2550 fits\n"
     ]
    },
    {
     "name": "stderr",
     "output_type": "stream",
     "text": [
      "[Parallel(n_jobs=3)]: Using backend LokyBackend with 3 concurrent workers.\n",
      "[Parallel(n_jobs=3)]: Done 386 tasks      | elapsed:    3.6s\n",
      "[Parallel(n_jobs=3)]: Done 1886 tasks      | elapsed:   19.1s\n",
      "[Parallel(n_jobs=3)]: Done 2550 out of 2550 | elapsed:   37.0s finished\n"
     ]
    },
    {
     "data": {
      "text/plain": [
       "GridSearchCV(cv=10, error_score='raise-deprecating',\n",
       "       estimator=SVC(C=1.0, cache_size=200, class_weight=None, coef0=0.0,\n",
       "  decision_function_shape='ovr', degree=3, gamma='auto_deprecated',\n",
       "  kernel='rbf', max_iter=-1, probability=False, random_state=None,\n",
       "  shrinking=True, tol=0.001, verbose=False),\n",
       "       fit_params=None, iid='warn', n_jobs=3,\n",
       "       param_grid={'C': array([3.125e-02, 6.250e-02, 1.250e-01, 2.500e-01, 5.000e-01, 1.000e+00,\n",
       "       2.000e+00, 4.000e+00, 8.000e+00, 1.600e+01, 3.200e+01, 6.400e+01,\n",
       "       1.280e+02, 2.560e+02, 5.120e+02, 1.024e+03, 2.048e+03]), 'gamma': array([1.22070e-04, 2.44141e-04, 4.88281e-04, 9.76562e-04, 1.95312e-03,\n",
       "       3.90625e-03, 7.81250e-03, 1.56250e-02, 3.12500e-02, 6.25000e-02,\n",
       "       1.25000e-01, 2.50000e-01, 5.00000e-01, 1.00000e+00, 2.00000e+00])},\n",
       "       pre_dispatch='2*n_jobs', refit=True, return_train_score='warn',\n",
       "       scoring=None, verbose=True)"
      ]
     },
     "execution_count": 70,
     "metadata": {},
     "output_type": "execute_result"
    }
   ],
   "source": [
    "p_cs = 2. ** np.arange(-5,12)\n",
    "p_gammas = 2. ** np.arange(-13,2)\n",
    "# p_epsilon = 1. ** np.arange(-5,5)\n",
    "model_cv=GridSearchCV(SVC(kernel='rbf'),{'C':p_cs,'gamma':p_gammas},cv=10,verbose=True, n_jobs=3)\n",
    "model_cv.fit(pca.transform(standardScaler.transform(X_train_over)), y_train_over)"
   ]
  },
  {
   "cell_type": "code",
   "execution_count": 71,
   "metadata": {},
   "outputs": [
    {
     "data": {
      "text/plain": [
       "{'C': 128.0, 'gamma': 0.125}"
      ]
     },
     "execution_count": 71,
     "metadata": {},
     "output_type": "execute_result"
    }
   ],
   "source": [
    "model_cv.best_params_"
   ]
  },
  {
   "cell_type": "code",
   "execution_count": 72,
   "metadata": {},
   "outputs": [
    {
     "data": {
      "text/plain": [
       "<matplotlib.axes._subplots.AxesSubplot at 0x26a88387518>"
      ]
     },
     "execution_count": 72,
     "metadata": {},
     "output_type": "execute_result"
    },
    {
     "data": {
      "image/png": "[encoded data removed]",
      "text/plain": [
       "<Figure size 432x288 with 2 Axes>"
      ]
     },
     "metadata": {
      "needs_background": "light"
     },
     "output_type": "display_data"
    }
   ],
   "source": [
    "y_pred = model_cv.predict(pca.transform(standardScaler.transform(X_train_over)))\n",
    "sns.heatmap(confusion_matrix(y_train_over, y_pred), cmap='coolwarm', annot=True)"
   ]
  },
  {
   "cell_type": "code",
   "execution_count": 73,
   "metadata": {
    "scrolled": true
   },
   "outputs": [
    {
     "data": {
      "text/plain": [
       "<matplotlib.axes._subplots.AxesSubplot at 0x26a87e80908>"
      ]
     },
     "execution_count": 73,
     "metadata": {},
     "output_type": "execute_result"
    },
    {
     "data": {
      "image/png": "[encoded data removed]",
      "text/plain": [
       "<Figure size 432x288 with 2 Axes>"
      ]
     },
     "metadata": {
      "needs_background": "light"
     },
     "output_type": "display_data"
    }
   ],
   "source": [
    "y_pred = model_cv.predict(pca.transform(standardScaler.transform(X_test)))\n",
    "sns.heatmap(confusion_matrix(y_test, y_pred), cmap='coolwarm', annot=True)"
   ]
  },
  {
   "cell_type": "code",
   "execution_count": null,
   "metadata": {},
   "outputs": [],
   "source": []
  },
  {
   "cell_type": "code",
   "execution_count": 111,
   "metadata": {},
   "outputs": [],
   "source": [
    "x1 = np.random.choice(X_train[y_train].index,850)\n",
    "x2 = np.random.choice(X_train[y_train].index,850)"
   ]
  },
  {
   "cell_type": "code",
   "execution_count": 113,
   "metadata": {},
   "outputs": [],
   "source": [
    "randx = np.random.uniform(size=(x2.shape[0],X_train.shape[1]))"
   ]
  },
  {
   "cell_type": "code",
   "execution_count": 115,
   "metadata": {},
   "outputs": [],
   "source": [
    "x3 = X_train.loc[x1].values + randx * (X_train.loc[x2].values - X_train.loc[x1].values)\n",
    "y3 = np.full(x1.shape[0],True)"
   ]
  },
  {
   "cell_type": "code",
   "execution_count": 116,
   "metadata": {},
   "outputs": [],
   "source": [
    "X_train_over = np.vstack((X_train,x3))\n",
    "y_train_over = np.hstack((y_train.values,y3))"
   ]
  },
  {
   "cell_type": "code",
   "execution_count": 117,
   "metadata": {},
   "outputs": [
    {
     "data": {
      "text/plain": [
       "PCA(copy=True, iterated_power='auto', n_components=0.8, random_state=None,\n",
       "  svd_solver='auto', tol=0.0, whiten=False)"
      ]
     },
     "execution_count": 117,
     "metadata": {},
     "output_type": "execute_result"
    }
   ],
   "source": [
    "pca = PCA(0.8)\n",
    "standardScaler = StandardScaler()\n",
    "standardScaler.fit(X_train)\n",
    "pca.fit(standardScaler.transform(X_train))"
   ]
  },
  {
   "cell_type": "code",
   "execution_count": 118,
   "metadata": {},
   "outputs": [
    {
     "name": "stdout",
     "output_type": "stream",
     "text": [
      "Wall time: 66.8 ms\n"
     ]
    },
    {
     "name": "stderr",
     "output_type": "stream",
     "text": [
      "C:\\Users\\Thiago\\Anaconda3\\lib\\site-packages\\sklearn\\svm\\base.py:196: FutureWarning: The default value of gamma will change from 'auto' to 'scale' in version 0.22 to account better for unscaled features. Set gamma explicitly to 'auto' or 'scale' to avoid this warning.\n",
      "  \"avoid this warning.\", FutureWarning)\n"
     ]
    },
    {
     "data": {
      "text/plain": [
       "SVC(C=1.0, cache_size=200, class_weight=None, coef0=0.0,\n",
       "  decision_function_shape='ovr', degree=3, gamma='auto_deprecated',\n",
       "  kernel='rbf', max_iter=-1, probability=False, random_state=None,\n",
       "  shrinking=True, tol=0.001, verbose=False)"
      ]
     },
     "execution_count": 118,
     "metadata": {},
     "output_type": "execute_result"
    }
   ],
   "source": [
    "svc = SVC()\n",
    "%time svc.fit(pca.transform(standardScaler.transform(X_train_over)), y_train_over)"
   ]
  },
  {
   "cell_type": "code",
   "execution_count": 119,
   "metadata": {},
   "outputs": [
    {
     "data": {
      "text/plain": [
       "<matplotlib.axes._subplots.AxesSubplot at 0x26b56402dd8>"
      ]
     },
     "execution_count": 119,
     "metadata": {},
     "output_type": "execute_result"
    },
    {
     "data": {
      "image/png": "[encoded data removed]",
      "text/plain": [
       "<Figure size 432x288 with 2 Axes>"
      ]
     },
     "metadata": {
      "needs_background": "light"
     },
     "output_type": "display_data"
    }
   ],
   "source": [
    "y_pred = svc.predict(pca.transform(standardScaler.transform(X_train_over)))\n",
    "sns.heatmap(confusion_matrix(y_train_over, y_pred), cmap='coolwarm', annot=True)"
   ]
  },
  {
   "cell_type": "code",
   "execution_count": 120,
   "metadata": {},
   "outputs": [
    {
     "data": {
      "text/plain": [
       "<matplotlib.axes._subplots.AxesSubplot at 0x26b55266630>"
      ]
     },
     "execution_count": 120,
     "metadata": {},
     "output_type": "execute_result"
    },
    {
     "data": {
      "image/png": "[encoded data removed]",
      "text/plain": [
       "<Figure size 432x288 with 2 Axes>"
      ]
     },
     "metadata": {
      "needs_background": "light"
     },
     "output_type": "display_data"
    }
   ],
   "source": [
    "y_pred = svc.predict(pca.transform(standardScaler.transform(X_test)))\n",
    "sns.heatmap(confusion_matrix(y_test, y_pred), cmap='coolwarm', annot=True)"
   ]
  },
  {
   "cell_type": "code",
   "execution_count": 121,
   "metadata": {},
   "outputs": [
    {
     "name": "stdout",
     "output_type": "stream",
     "text": [
      "Fitting 10 folds for each of 255 candidates, totalling 2550 fits\n"
     ]
    },
    {
     "name": "stderr",
     "output_type": "stream",
     "text": [
      "[Parallel(n_jobs=3)]: Using backend LokyBackend with 3 concurrent workers.\n",
      "[Parallel(n_jobs=3)]: Done  82 tasks      | elapsed:    2.4s\n",
      "[Parallel(n_jobs=3)]: Done 382 tasks      | elapsed:   10.5s\n",
      "[Parallel(n_jobs=3)]: Done 882 tasks      | elapsed:   22.4s\n",
      "[Parallel(n_jobs=3)]: Done 1582 tasks      | elapsed:   39.0s\n",
      "[Parallel(n_jobs=3)]: Done 2435 tasks      | elapsed:  1.4min\n",
      "[Parallel(n_jobs=3)]: Done 2550 out of 2550 | elapsed:  1.8min finished\n"
     ]
    },
    {
     "data": {
      "text/plain": [
       "GridSearchCV(cv=10, error_score='raise-deprecating',\n",
       "       estimator=SVC(C=1.0, cache_size=200, class_weight=None, coef0=0.0,\n",
       "  decision_function_shape='ovr', degree=3, gamma='auto_deprecated',\n",
       "  kernel='rbf', max_iter=-1, probability=False, random_state=None,\n",
       "  shrinking=True, tol=0.001, verbose=False),\n",
       "       fit_params=None, iid='warn', n_jobs=3,\n",
       "       param_grid={'C': array([3.125e-02, 6.250e-02, 1.250e-01, 2.500e-01, 5.000e-01, 1.000e+00,\n",
       "       2.000e+00, 4.000e+00, 8.000e+00, 1.600e+01, 3.200e+01, 6.400e+01,\n",
       "       1.280e+02, 2.560e+02, 5.120e+02, 1.024e+03, 2.048e+03]), 'gamma': array([1.22070e-04, 2.44141e-04, 4.88281e-04, 9.76562e-04, 1.95312e-03,\n",
       "       3.90625e-03, 7.81250e-03, 1.56250e-02, 3.12500e-02, 6.25000e-02,\n",
       "       1.25000e-01, 2.50000e-01, 5.00000e-01, 1.00000e+00, 2.00000e+00])},\n",
       "       pre_dispatch='2*n_jobs', refit=True, return_train_score='warn',\n",
       "       scoring=None, verbose=True)"
      ]
     },
     "execution_count": 121,
     "metadata": {},
     "output_type": "execute_result"
    }
   ],
   "source": [
    "p_cs = 2. ** np.arange(-5,12)\n",
    "p_gammas = 2. ** np.arange(-13,2)\n",
    "# p_epsilon = 1. ** np.arange(-5,5)\n",
    "model_cv=GridSearchCV(SVC(kernel='rbf'),{'C':p_cs,'gamma':p_gammas},cv=10,verbose=True, n_jobs=3)\n",
    "model_cv.fit(pca.transform(standardScaler.transform(X_train_over)), y_train_over)"
   ]
  },
  {
   "cell_type": "code",
   "execution_count": 122,
   "metadata": {},
   "outputs": [
    {
     "data": {
      "text/plain": [
       "{'C': 64.0, 'gamma': 0.25}"
      ]
     },
     "execution_count": 122,
     "metadata": {},
     "output_type": "execute_result"
    }
   ],
   "source": [
    "model_cv.best_params_"
   ]
  },
  {
   "cell_type": "code",
   "execution_count": 123,
   "metadata": {},
   "outputs": [
    {
     "data": {
      "text/plain": [
       "<matplotlib.axes._subplots.AxesSubplot at 0x26b57a537b8>"
      ]
     },
     "execution_count": 123,
     "metadata": {},
     "output_type": "execute_result"
    },
    {
     "data": {
      "image/png": "[encoded data removed]",
      "text/plain": [
       "<Figure size 432x288 with 2 Axes>"
      ]
     },
     "metadata": {
      "needs_background": "light"
     },
     "output_type": "display_data"
    }
   ],
   "source": [
    "y_pred = model_cv.predict(pca.transform(standardScaler.transform(X_train_over)))\n",
    "sns.heatmap(confusion_matrix(y_train_over, y_pred), cmap='coolwarm', annot=True)"
   ]
  },
  {
   "cell_type": "code",
   "execution_count": 125,
   "metadata": {
    "scrolled": true
   },
   "outputs": [
    {
     "data": {
      "text/plain": [
       "<matplotlib.axes._subplots.AxesSubplot at 0x26b57b46390>"
      ]
     },
     "execution_count": 125,
     "metadata": {},
     "output_type": "execute_result"
    },
    {
     "data": {
      "image/png": "[encoded data removed]",
      "text/plain": [
       "<Figure size 432x288 with 2 Axes>"
      ]
     },
     "metadata": {
      "needs_background": "light"
     },
     "output_type": "display_data"
    }
   ],
   "source": [
    "y_pred = model_cv.predict(pca.transform(standardScaler.transform(X_test)))\n",
    "sns.heatmap(confusion_matrix(y_test, y_pred), cmap='coolwarm', annot=True)"
   ]
  },
  {
   "cell_type": "code",
   "execution_count": null,
   "metadata": {},
   "outputs": [],
   "source": []
  },
  {
   "cell_type": "code",
   "execution_count": 131,
   "metadata": {},
   "outputs": [
    {
     "name": "stderr",
     "output_type": "stream",
     "text": [
      "C:\\Users\\Thiago\\Anaconda3\\lib\\site-packages\\sklearn\\model_selection\\_split.py:2179: FutureWarning: From version 0.21, test_size will always complement train_size unless both are specified.\n",
      "  FutureWarning)\n"
     ]
    }
   ],
   "source": [
    "X_train, X_test, y_train, y_test = train_test_split(dataset[dataset.columns[1:]], dataset[dataset.columns[0]], train_size=0.7, random_state=42)"
   ]
  },
  {
   "cell_type": "code",
   "execution_count": 132,
   "metadata": {},
   "outputs": [],
   "source": [
    "y_train = y_train > 10\n",
    "y_test = y_test > 10"
   ]
  },
  {
   "cell_type": "code",
   "execution_count": 133,
   "metadata": {},
   "outputs": [
    {
     "data": {
      "text/plain": [
       "(66346,)"
      ]
     },
     "execution_count": 133,
     "metadata": {},
     "output_type": "execute_result"
    }
   ],
   "source": [
    "y_train.shape"
   ]
  },
  {
   "cell_type": "code",
   "execution_count": 134,
   "metadata": {},
   "outputs": [
    {
     "data": {
      "text/plain": [
       "2144"
      ]
     },
     "execution_count": 134,
     "metadata": {},
     "output_type": "execute_result"
    }
   ],
   "source": [
    "y_train[y_train].sum()"
   ]
  },
  {
   "cell_type": "code",
   "execution_count": 135,
   "metadata": {},
   "outputs": [],
   "source": [
    "false = np.random.choice(y_train[~y_train].index, size = y_train[y_train].shape[0])"
   ]
  },
  {
   "cell_type": "code",
   "execution_count": 136,
   "metadata": {},
   "outputs": [],
   "source": [
    "y_train_sub = pd.Series(np.hstack((y_train[y_train], y_train.loc[false])), index=np.hstack((y_train[y_train].index, y_train.loc[false].index)))"
   ]
  },
  {
   "cell_type": "code",
   "execution_count": 137,
   "metadata": {},
   "outputs": [
    {
     "data": {
      "text/plain": [
       "PCA(copy=True, iterated_power='auto', n_components=0.9, random_state=None,\n",
       "  svd_solver='auto', tol=0.0, whiten=False)"
      ]
     },
     "execution_count": 137,
     "metadata": {},
     "output_type": "execute_result"
    }
   ],
   "source": [
    "pca = PCA(.9)\n",
    "standardScaler = StandardScaler()\n",
    "standardScaler.fit(X_train)\n",
    "pca.fit(standardScaler.transform(X_train))"
   ]
  },
  {
   "cell_type": "code",
   "execution_count": 138,
   "metadata": {},
   "outputs": [
    {
     "name": "stderr",
     "output_type": "stream",
     "text": [
      "C:\\Users\\Thiago\\Anaconda3\\lib\\site-packages\\sklearn\\svm\\base.py:196: FutureWarning: The default value of gamma will change from 'auto' to 'scale' in version 0.22 to account better for unscaled features. Set gamma explicitly to 'auto' or 'scale' to avoid this warning.\n",
      "  \"avoid this warning.\", FutureWarning)\n"
     ]
    },
    {
     "name": "stdout",
     "output_type": "stream",
     "text": [
      "Wall time: 353 ms\n"
     ]
    },
    {
     "data": {
      "text/plain": [
       "SVC(C=1.0, cache_size=200, class_weight=None, coef0=0.0,\n",
       "  decision_function_shape='ovr', degree=3, gamma='auto_deprecated',\n",
       "  kernel='rbf', max_iter=-1, probability=False, random_state=None,\n",
       "  shrinking=True, tol=0.001, verbose=False)"
      ]
     },
     "execution_count": 138,
     "metadata": {},
     "output_type": "execute_result"
    }
   ],
   "source": [
    "svc = SVC()\n",
    "%time svc.fit(pca.transform(standardScaler.transform(X_train.loc[y_train_sub.index])), y_train.loc[y_train_sub.index])"
   ]
  },
  {
   "cell_type": "code",
   "execution_count": 142,
   "metadata": {},
   "outputs": [
    {
     "data": {
      "text/plain": [
       "<matplotlib.axes._subplots.AxesSubplot at 0x26b57a70ac8>"
      ]
     },
     "execution_count": 142,
     "metadata": {},
     "output_type": "execute_result"
    },
    {
     "data": {
      "image/png": "[encoded data removed]",
      "text/plain": [
       "<Figure size 432x288 with 2 Axes>"
      ]
     },
     "metadata": {
      "needs_background": "light"
     },
     "output_type": "display_data"
    }
   ],
   "source": [
    "y_pred = svc.predict(pca.transform(standardScaler.transform(X_train)))\n",
    "sns.heatmap(confusion_matrix(y_train, y_pred), cmap='coolwarm', annot=True)"
   ]
  },
  {
   "cell_type": "code",
   "execution_count": 143,
   "metadata": {},
   "outputs": [
    {
     "data": {
      "text/plain": [
       "<matplotlib.axes._subplots.AxesSubplot at 0x26b56296518>"
      ]
     },
     "execution_count": 143,
     "metadata": {},
     "output_type": "execute_result"
    },
    {
     "data": {
      "image/png": "[encoded data removed]",
      "text/plain": [
       "<Figure size 432x288 with 2 Axes>"
      ]
     },
     "metadata": {
      "needs_background": "light"
     },
     "output_type": "display_data"
    }
   ],
   "source": [
    "y_pred = svc.predict(pca.transform(standardScaler.transform(X_test)))\n",
    "sns.heatmap(confusion_matrix(y_test, y_pred), cmap='coolwarm', annot=True)"
   ]
  },
  {
   "cell_type": "code",
   "execution_count": 144,
   "metadata": {},
   "outputs": [
    {
     "name": "stdout",
     "output_type": "stream",
     "text": [
      "Fitting 10 folds for each of 255 candidates, totalling 2550 fits\n"
     ]
    },
    {
     "name": "stderr",
     "output_type": "stream",
     "text": [
      "[Parallel(n_jobs=3)]: Using backend LokyBackend with 3 concurrent workers.\n",
      "[Parallel(n_jobs=3)]: Done  44 tasks      | elapsed:    9.9s\n",
      "[Parallel(n_jobs=3)]: Done 194 tasks      | elapsed:   38.2s\n",
      "[Parallel(n_jobs=3)]: Done 444 tasks      | elapsed:  1.3min\n",
      "[Parallel(n_jobs=3)]: Done 794 tasks      | elapsed:  2.3min\n",
      "[Parallel(n_jobs=3)]: Done 1244 tasks      | elapsed:  3.5min\n",
      "[Parallel(n_jobs=3)]: Done 1794 tasks      | elapsed:  5.3min\n",
      "[Parallel(n_jobs=3)]: Done 2444 tasks      | elapsed: 11.3min\n",
      "[Parallel(n_jobs=3)]: Done 2550 out of 2550 | elapsed: 15.5min finished\n"
     ]
    },
    {
     "data": {
      "text/plain": [
       "GridSearchCV(cv=10, error_score='raise-deprecating',\n",
       "       estimator=SVC(C=1.0, cache_size=200, class_weight=None, coef0=0.0,\n",
       "  decision_function_shape='ovr', degree=3, gamma='auto_deprecated',\n",
       "  kernel='rbf', max_iter=-1, probability=False, random_state=None,\n",
       "  shrinking=True, tol=0.001, verbose=False),\n",
       "       fit_params=None, iid='warn', n_jobs=3,\n",
       "       param_grid={'C': array([3.125e-02, 6.250e-02, 1.250e-01, 2.500e-01, 5.000e-01, 1.000e+00,\n",
       "       2.000e+00, 4.000e+00, 8.000e+00, 1.600e+01, 3.200e+01, 6.400e+01,\n",
       "       1.280e+02, 2.560e+02, 5.120e+02, 1.024e+03, 2.048e+03]), 'gamma': array([1.22070e-04, 2.44141e-04, 4.88281e-04, 9.76562e-04, 1.95312e-03,\n",
       "       3.90625e-03, 7.81250e-03, 1.56250e-02, 3.12500e-02, 6.25000e-02,\n",
       "       1.25000e-01, 2.50000e-01, 5.00000e-01, 1.00000e+00, 2.00000e+00])},\n",
       "       pre_dispatch='2*n_jobs', refit=True, return_train_score='warn',\n",
       "       scoring=None, verbose=True)"
      ]
     },
     "execution_count": 144,
     "metadata": {},
     "output_type": "execute_result"
    }
   ],
   "source": [
    "p_cs = 2. ** np.arange(-5,12)\n",
    "p_gammas = 2. ** np.arange(-13,2)\n",
    "# p_epsilon = 1. ** np.arange(-5,5)\n",
    "model_cv=GridSearchCV(SVC(kernel='rbf'),{'C':p_cs,'gamma':p_gammas},cv=10,verbose=True, n_jobs=3)\n",
    "model_cv.fit(pca.transform(standardScaler.transform(X_train.loc[y_train_sub.index])), y_train.loc[y_train_sub.index])"
   ]
  },
  {
   "cell_type": "code",
   "execution_count": 145,
   "metadata": {},
   "outputs": [
    {
     "data": {
      "text/plain": [
       "{'C': 8.0, 'gamma': 0.25}"
      ]
     },
     "execution_count": 145,
     "metadata": {},
     "output_type": "execute_result"
    }
   ],
   "source": [
    "model_cv.best_params_"
   ]
  },
  {
   "cell_type": "code",
   "execution_count": 146,
   "metadata": {},
   "outputs": [
    {
     "data": {
      "text/plain": [
       "<matplotlib.axes._subplots.AxesSubplot at 0x26b581afb38>"
      ]
     },
     "execution_count": 146,
     "metadata": {},
     "output_type": "execute_result"
    },
    {
     "data": {
      "image/png": "[encoded data removed]",
      "text/plain": [
       "<Figure size 432x288 with 2 Axes>"
      ]
     },
     "metadata": {
      "needs_background": "light"
     },
     "output_type": "display_data"
    }
   ],
   "source": [
    "y_pred = model_cv.predict(pca.transform(standardScaler.transform(X_train)))\n",
    "sns.heatmap(confusion_matrix(y_train, y_pred), cmap='coolwarm', annot=True)"
   ]
  },
  {
   "cell_type": "code",
   "execution_count": 147,
   "metadata": {},
   "outputs": [
    {
     "data": {
      "text/plain": [
       "<matplotlib.axes._subplots.AxesSubplot at 0x26b5827d470>"
      ]
     },
     "execution_count": 147,
     "metadata": {},
     "output_type": "execute_result"
    },
    {
     "data": {
      "image/png": "[encoded data removed]",
      "text/plain": [
       "<Figure size 432x288 with 2 Axes>"
      ]
     },
     "metadata": {
      "needs_background": "light"
     },
     "output_type": "display_data"
    }
   ],
   "source": [
    "y_pred = model_cv.predict(pca.transform(standardScaler.transform(X_test)))\n",
    "sns.heatmap(confusion_matrix(y_test, y_pred), cmap='coolwarm', annot=True)"
   ]
  },
  {
   "cell_type": "code",
   "execution_count": null,
   "metadata": {},
   "outputs": [],
   "source": []
  },
  {
   "cell_type": "code",
   "execution_count": 149,
   "metadata": {},
   "outputs": [
    {
     "data": {
      "text/html": [
       "<div>\n",
       "<style scoped>\n",
       "    .dataframe tbody tr th:only-of-type {\n",
       "        vertical-align: middle;\n",
       "    }\n",
       "\n",
       "    .dataframe tbody tr th {\n",
       "        vertical-align: top;\n",
       "    }\n",
       "\n",
       "    .dataframe thead th {\n",
       "        text-align: right;\n",
       "    }\n",
       "</style>\n",
       "<table border=\"1\" class=\"dataframe\">\n",
       "  <thead>\n",
       "    <tr style=\"text-align: right;\">\n",
       "      <th></th>\n",
       "      <th>stp</th>\n",
       "      <th>smax</th>\n",
       "      <th>smin</th>\n",
       "      <th>gbrd</th>\n",
       "      <th>temp</th>\n",
       "      <th>dewp</th>\n",
       "      <th>tmax</th>\n",
       "      <th>dmax</th>\n",
       "      <th>tmin</th>\n",
       "      <th>dmin</th>\n",
       "      <th>hmdy</th>\n",
       "      <th>hmax</th>\n",
       "      <th>hmin</th>\n",
       "      <th>wdsp</th>\n",
       "      <th>wdct</th>\n",
       "      <th>gust</th>\n",
       "    </tr>\n",
       "  </thead>\n",
       "  <tbody>\n",
       "    <tr>\n",
       "      <th>89768</th>\n",
       "      <td>1005.6</td>\n",
       "      <td>1006.9</td>\n",
       "      <td>1005.5</td>\n",
       "      <td>2837.746</td>\n",
       "      <td>23.7</td>\n",
       "      <td>15.5</td>\n",
       "      <td>24.4</td>\n",
       "      <td>15.9</td>\n",
       "      <td>23.3</td>\n",
       "      <td>15.1</td>\n",
       "      <td>60.0</td>\n",
       "      <td>62.0</td>\n",
       "      <td>57.0</td>\n",
       "      <td>4.7</td>\n",
       "      <td>353.0</td>\n",
       "      <td>11.3</td>\n",
       "    </tr>\n",
       "    <tr>\n",
       "      <th>11816</th>\n",
       "      <td>1022.2</td>\n",
       "      <td>1022.3</td>\n",
       "      <td>1022.2</td>\n",
       "      <td>247.576</td>\n",
       "      <td>19.4</td>\n",
       "      <td>19.3</td>\n",
       "      <td>19.7</td>\n",
       "      <td>19.5</td>\n",
       "      <td>19.3</td>\n",
       "      <td>19.0</td>\n",
       "      <td>99.0</td>\n",
       "      <td>99.0</td>\n",
       "      <td>98.0</td>\n",
       "      <td>3.8</td>\n",
       "      <td>105.0</td>\n",
       "      <td>7.9</td>\n",
       "    </tr>\n",
       "    <tr>\n",
       "      <th>59139</th>\n",
       "      <td>905.6</td>\n",
       "      <td>906.0</td>\n",
       "      <td>905.6</td>\n",
       "      <td>691.976</td>\n",
       "      <td>18.3</td>\n",
       "      <td>17.9</td>\n",
       "      <td>18.5</td>\n",
       "      <td>18.1</td>\n",
       "      <td>17.7</td>\n",
       "      <td>17.3</td>\n",
       "      <td>98.0</td>\n",
       "      <td>98.0</td>\n",
       "      <td>97.0</td>\n",
       "      <td>1.1</td>\n",
       "      <td>68.0</td>\n",
       "      <td>4.3</td>\n",
       "    </tr>\n",
       "    <tr>\n",
       "      <th>36567</th>\n",
       "      <td>1017.3</td>\n",
       "      <td>1017.5</td>\n",
       "      <td>1016.9</td>\n",
       "      <td>677.420</td>\n",
       "      <td>19.4</td>\n",
       "      <td>17.1</td>\n",
       "      <td>23.1</td>\n",
       "      <td>19.3</td>\n",
       "      <td>18.9</td>\n",
       "      <td>16.1</td>\n",
       "      <td>87.0</td>\n",
       "      <td>87.0</td>\n",
       "      <td>77.0</td>\n",
       "      <td>2.8</td>\n",
       "      <td>221.0</td>\n",
       "      <td>9.7</td>\n",
       "    </tr>\n",
       "    <tr>\n",
       "      <th>4095</th>\n",
       "      <td>1011.2</td>\n",
       "      <td>1011.2</td>\n",
       "      <td>1010.8</td>\n",
       "      <td>242.561</td>\n",
       "      <td>21.7</td>\n",
       "      <td>21.6</td>\n",
       "      <td>21.9</td>\n",
       "      <td>21.8</td>\n",
       "      <td>21.4</td>\n",
       "      <td>21.4</td>\n",
       "      <td>100.0</td>\n",
       "      <td>100.0</td>\n",
       "      <td>100.0</td>\n",
       "      <td>3.8</td>\n",
       "      <td>219.0</td>\n",
       "      <td>5.8</td>\n",
       "    </tr>\n",
       "    <tr>\n",
       "      <th>48236</th>\n",
       "      <td>826.5</td>\n",
       "      <td>826.7</td>\n",
       "      <td>826.5</td>\n",
       "      <td>0.000</td>\n",
       "      <td>15.8</td>\n",
       "      <td>13.6</td>\n",
       "      <td>16.2</td>\n",
       "      <td>14.7</td>\n",
       "      <td>14.8</td>\n",
       "      <td>13.6</td>\n",
       "      <td>86.0</td>\n",
       "      <td>93.0</td>\n",
       "      <td>86.0</td>\n",
       "      <td>1.2</td>\n",
       "      <td>8.0</td>\n",
       "      <td>2.4</td>\n",
       "    </tr>\n",
       "    <tr>\n",
       "      <th>11343</th>\n",
       "      <td>1006.8</td>\n",
       "      <td>1008.3</td>\n",
       "      <td>1006.7</td>\n",
       "      <td>500.079</td>\n",
       "      <td>22.5</td>\n",
       "      <td>20.0</td>\n",
       "      <td>23.9</td>\n",
       "      <td>20.5</td>\n",
       "      <td>22.5</td>\n",
       "      <td>19.8</td>\n",
       "      <td>85.0</td>\n",
       "      <td>85.0</td>\n",
       "      <td>80.0</td>\n",
       "      <td>9.9</td>\n",
       "      <td>223.0</td>\n",
       "      <td>14.9</td>\n",
       "    </tr>\n",
       "    <tr>\n",
       "      <th>51922</th>\n",
       "      <td>832.5</td>\n",
       "      <td>833.3</td>\n",
       "      <td>832.5</td>\n",
       "      <td>300.194</td>\n",
       "      <td>10.8</td>\n",
       "      <td>10.7</td>\n",
       "      <td>11.1</td>\n",
       "      <td>11.0</td>\n",
       "      <td>10.7</td>\n",
       "      <td>10.6</td>\n",
       "      <td>99.0</td>\n",
       "      <td>99.0</td>\n",
       "      <td>99.0</td>\n",
       "      <td>4.1</td>\n",
       "      <td>328.0</td>\n",
       "      <td>8.4</td>\n",
       "    </tr>\n",
       "    <tr>\n",
       "      <th>82511</th>\n",
       "      <td>894.0</td>\n",
       "      <td>894.3</td>\n",
       "      <td>893.9</td>\n",
       "      <td>0.000</td>\n",
       "      <td>17.3</td>\n",
       "      <td>16.5</td>\n",
       "      <td>17.4</td>\n",
       "      <td>16.5</td>\n",
       "      <td>17.2</td>\n",
       "      <td>16.3</td>\n",
       "      <td>95.0</td>\n",
       "      <td>95.0</td>\n",
       "      <td>94.0</td>\n",
       "      <td>3.6</td>\n",
       "      <td>208.0</td>\n",
       "      <td>6.5</td>\n",
       "    </tr>\n",
       "    <tr>\n",
       "      <th>79844</th>\n",
       "      <td>1018.9</td>\n",
       "      <td>1018.9</td>\n",
       "      <td>1018.1</td>\n",
       "      <td>0.000</td>\n",
       "      <td>19.9</td>\n",
       "      <td>18.2</td>\n",
       "      <td>20.0</td>\n",
       "      <td>18.3</td>\n",
       "      <td>19.8</td>\n",
       "      <td>18.0</td>\n",
       "      <td>90.0</td>\n",
       "      <td>90.0</td>\n",
       "      <td>89.0</td>\n",
       "      <td>0.3</td>\n",
       "      <td>337.0</td>\n",
       "      <td>1.2</td>\n",
       "    </tr>\n",
       "    <tr>\n",
       "      <th>51937</th>\n",
       "      <td>835.1</td>\n",
       "      <td>835.2</td>\n",
       "      <td>835.0</td>\n",
       "      <td>0.000</td>\n",
       "      <td>9.0</td>\n",
       "      <td>9.0</td>\n",
       "      <td>9.3</td>\n",
       "      <td>9.2</td>\n",
       "      <td>9.0</td>\n",
       "      <td>8.9</td>\n",
       "      <td>99.0</td>\n",
       "      <td>100.0</td>\n",
       "      <td>99.0</td>\n",
       "      <td>4.3</td>\n",
       "      <td>120.0</td>\n",
       "      <td>6.1</td>\n",
       "    </tr>\n",
       "    <tr>\n",
       "      <th>87276</th>\n",
       "      <td>891.4</td>\n",
       "      <td>891.4</td>\n",
       "      <td>890.9</td>\n",
       "      <td>76.991</td>\n",
       "      <td>21.5</td>\n",
       "      <td>18.9</td>\n",
       "      <td>21.7</td>\n",
       "      <td>20.3</td>\n",
       "      <td>20.4</td>\n",
       "      <td>18.9</td>\n",
       "      <td>85.0</td>\n",
       "      <td>96.0</td>\n",
       "      <td>85.0</td>\n",
       "      <td>2.5</td>\n",
       "      <td>44.0</td>\n",
       "      <td>6.3</td>\n",
       "    </tr>\n",
       "    <tr>\n",
       "      <th>45727</th>\n",
       "      <td>825.1</td>\n",
       "      <td>825.1</td>\n",
       "      <td>824.9</td>\n",
       "      <td>386.662</td>\n",
       "      <td>16.2</td>\n",
       "      <td>16.1</td>\n",
       "      <td>17.2</td>\n",
       "      <td>17.1</td>\n",
       "      <td>16.2</td>\n",
       "      <td>16.1</td>\n",
       "      <td>99.0</td>\n",
       "      <td>99.0</td>\n",
       "      <td>99.0</td>\n",
       "      <td>4.0</td>\n",
       "      <td>157.0</td>\n",
       "      <td>5.4</td>\n",
       "    </tr>\n",
       "    <tr>\n",
       "      <th>68254</th>\n",
       "      <td>1009.5</td>\n",
       "      <td>1010.4</td>\n",
       "      <td>1009.5</td>\n",
       "      <td>241.034</td>\n",
       "      <td>21.2</td>\n",
       "      <td>19.8</td>\n",
       "      <td>21.3</td>\n",
       "      <td>20.1</td>\n",
       "      <td>20.9</td>\n",
       "      <td>19.7</td>\n",
       "      <td>92.0</td>\n",
       "      <td>93.0</td>\n",
       "      <td>92.0</td>\n",
       "      <td>1.2</td>\n",
       "      <td>160.0</td>\n",
       "      <td>3.8</td>\n",
       "    </tr>\n",
       "    <tr>\n",
       "      <th>12804</th>\n",
       "      <td>1013.3</td>\n",
       "      <td>1013.3</td>\n",
       "      <td>1013.2</td>\n",
       "      <td>0.000</td>\n",
       "      <td>23.4</td>\n",
       "      <td>21.0</td>\n",
       "      <td>23.7</td>\n",
       "      <td>21.5</td>\n",
       "      <td>22.7</td>\n",
       "      <td>20.6</td>\n",
       "      <td>86.0</td>\n",
       "      <td>89.0</td>\n",
       "      <td>86.0</td>\n",
       "      <td>2.7</td>\n",
       "      <td>102.0</td>\n",
       "      <td>9.5</td>\n",
       "    </tr>\n",
       "    <tr>\n",
       "      <th>58012</th>\n",
       "      <td>906.9</td>\n",
       "      <td>907.6</td>\n",
       "      <td>906.8</td>\n",
       "      <td>0.000</td>\n",
       "      <td>15.9</td>\n",
       "      <td>15.2</td>\n",
       "      <td>16.3</td>\n",
       "      <td>15.7</td>\n",
       "      <td>15.6</td>\n",
       "      <td>15.1</td>\n",
       "      <td>96.0</td>\n",
       "      <td>97.0</td>\n",
       "      <td>94.0</td>\n",
       "      <td>1.5</td>\n",
       "      <td>260.0</td>\n",
       "      <td>6.0</td>\n",
       "    </tr>\n",
       "    <tr>\n",
       "      <th>79113</th>\n",
       "      <td>1005.5</td>\n",
       "      <td>1005.7</td>\n",
       "      <td>1005.1</td>\n",
       "      <td>0.000</td>\n",
       "      <td>23.7</td>\n",
       "      <td>22.2</td>\n",
       "      <td>23.9</td>\n",
       "      <td>22.3</td>\n",
       "      <td>23.7</td>\n",
       "      <td>22.1</td>\n",
       "      <td>91.0</td>\n",
       "      <td>91.0</td>\n",
       "      <td>90.0</td>\n",
       "      <td>0.1</td>\n",
       "      <td>109.0</td>\n",
       "      <td>2.4</td>\n",
       "    </tr>\n",
       "    <tr>\n",
       "      <th>68864</th>\n",
       "      <td>1010.9</td>\n",
       "      <td>1011.7</td>\n",
       "      <td>1010.9</td>\n",
       "      <td>203.032</td>\n",
       "      <td>26.2</td>\n",
       "      <td>21.7</td>\n",
       "      <td>26.7</td>\n",
       "      <td>23.3</td>\n",
       "      <td>25.5</td>\n",
       "      <td>21.5</td>\n",
       "      <td>77.0</td>\n",
       "      <td>84.0</td>\n",
       "      <td>76.0</td>\n",
       "      <td>1.7</td>\n",
       "      <td>56.0</td>\n",
       "      <td>5.5</td>\n",
       "    </tr>\n",
       "    <tr>\n",
       "      <th>91158</th>\n",
       "      <td>1015.1</td>\n",
       "      <td>1015.1</td>\n",
       "      <td>1014.2</td>\n",
       "      <td>60.162</td>\n",
       "      <td>17.1</td>\n",
       "      <td>15.6</td>\n",
       "      <td>17.3</td>\n",
       "      <td>15.8</td>\n",
       "      <td>16.9</td>\n",
       "      <td>15.3</td>\n",
       "      <td>91.0</td>\n",
       "      <td>91.0</td>\n",
       "      <td>90.0</td>\n",
       "      <td>4.9</td>\n",
       "      <td>241.0</td>\n",
       "      <td>8.2</td>\n",
       "    </tr>\n",
       "    <tr>\n",
       "      <th>30357</th>\n",
       "      <td>1009.5</td>\n",
       "      <td>1009.5</td>\n",
       "      <td>1008.6</td>\n",
       "      <td>0.602</td>\n",
       "      <td>22.9</td>\n",
       "      <td>22.8</td>\n",
       "      <td>23.0</td>\n",
       "      <td>22.9</td>\n",
       "      <td>22.9</td>\n",
       "      <td>22.8</td>\n",
       "      <td>99.0</td>\n",
       "      <td>99.0</td>\n",
       "      <td>99.0</td>\n",
       "      <td>1.4</td>\n",
       "      <td>299.0</td>\n",
       "      <td>3.9</td>\n",
       "    </tr>\n",
       "    <tr>\n",
       "      <th>82442</th>\n",
       "      <td>900.6</td>\n",
       "      <td>900.7</td>\n",
       "      <td>900.2</td>\n",
       "      <td>1034.692</td>\n",
       "      <td>13.4</td>\n",
       "      <td>12.6</td>\n",
       "      <td>14.3</td>\n",
       "      <td>13.4</td>\n",
       "      <td>12.9</td>\n",
       "      <td>12.2</td>\n",
       "      <td>95.0</td>\n",
       "      <td>96.0</td>\n",
       "      <td>92.0</td>\n",
       "      <td>3.0</td>\n",
       "      <td>222.0</td>\n",
       "      <td>6.0</td>\n",
       "    </tr>\n",
       "    <tr>\n",
       "      <th>31948</th>\n",
       "      <td>1020.5</td>\n",
       "      <td>1020.5</td>\n",
       "      <td>1020.0</td>\n",
       "      <td>0.000</td>\n",
       "      <td>18.7</td>\n",
       "      <td>17.8</td>\n",
       "      <td>19.2</td>\n",
       "      <td>17.8</td>\n",
       "      <td>18.7</td>\n",
       "      <td>17.2</td>\n",
       "      <td>95.0</td>\n",
       "      <td>95.0</td>\n",
       "      <td>88.0</td>\n",
       "      <td>2.7</td>\n",
       "      <td>242.0</td>\n",
       "      <td>4.6</td>\n",
       "    </tr>\n",
       "    <tr>\n",
       "      <th>6079</th>\n",
       "      <td>1017.5</td>\n",
       "      <td>1018.2</td>\n",
       "      <td>1017.5</td>\n",
       "      <td>888.435</td>\n",
       "      <td>17.7</td>\n",
       "      <td>15.9</td>\n",
       "      <td>17.8</td>\n",
       "      <td>16.1</td>\n",
       "      <td>16.4</td>\n",
       "      <td>14.8</td>\n",
       "      <td>89.0</td>\n",
       "      <td>94.0</td>\n",
       "      <td>87.0</td>\n",
       "      <td>3.2</td>\n",
       "      <td>262.0</td>\n",
       "      <td>3.3</td>\n",
       "    </tr>\n",
       "    <tr>\n",
       "      <th>15879</th>\n",
       "      <td>1009.7</td>\n",
       "      <td>1011.0</td>\n",
       "      <td>1009.5</td>\n",
       "      <td>0.000</td>\n",
       "      <td>20.8</td>\n",
       "      <td>19.2</td>\n",
       "      <td>22.6</td>\n",
       "      <td>20.6</td>\n",
       "      <td>20.8</td>\n",
       "      <td>18.8</td>\n",
       "      <td>91.0</td>\n",
       "      <td>91.0</td>\n",
       "      <td>85.0</td>\n",
       "      <td>0.6</td>\n",
       "      <td>108.0</td>\n",
       "      <td>4.4</td>\n",
       "    </tr>\n",
       "    <tr>\n",
       "      <th>62432</th>\n",
       "      <td>900.8</td>\n",
       "      <td>901.2</td>\n",
       "      <td>900.8</td>\n",
       "      <td>589.734</td>\n",
       "      <td>19.2</td>\n",
       "      <td>18.7</td>\n",
       "      <td>19.3</td>\n",
       "      <td>18.7</td>\n",
       "      <td>18.6</td>\n",
       "      <td>18.1</td>\n",
       "      <td>97.0</td>\n",
       "      <td>97.0</td>\n",
       "      <td>97.0</td>\n",
       "      <td>1.1</td>\n",
       "      <td>4.0</td>\n",
       "      <td>3.2</td>\n",
       "    </tr>\n",
       "    <tr>\n",
       "      <th>4496</th>\n",
       "      <td>1014.8</td>\n",
       "      <td>1014.8</td>\n",
       "      <td>1014.3</td>\n",
       "      <td>0.190</td>\n",
       "      <td>21.3</td>\n",
       "      <td>20.9</td>\n",
       "      <td>21.6</td>\n",
       "      <td>21.2</td>\n",
       "      <td>21.2</td>\n",
       "      <td>20.9</td>\n",
       "      <td>98.0</td>\n",
       "      <td>98.0</td>\n",
       "      <td>98.0</td>\n",
       "      <td>2.5</td>\n",
       "      <td>225.0</td>\n",
       "      <td>5.0</td>\n",
       "    </tr>\n",
       "    <tr>\n",
       "      <th>80450</th>\n",
       "      <td>1012.9</td>\n",
       "      <td>1012.9</td>\n",
       "      <td>1012.5</td>\n",
       "      <td>0.000</td>\n",
       "      <td>22.4</td>\n",
       "      <td>20.5</td>\n",
       "      <td>22.5</td>\n",
       "      <td>20.6</td>\n",
       "      <td>22.2</td>\n",
       "      <td>20.3</td>\n",
       "      <td>89.0</td>\n",
       "      <td>89.0</td>\n",
       "      <td>88.0</td>\n",
       "      <td>2.2</td>\n",
       "      <td>288.0</td>\n",
       "      <td>4.4</td>\n",
       "    </tr>\n",
       "    <tr>\n",
       "      <th>45867</th>\n",
       "      <td>824.5</td>\n",
       "      <td>824.5</td>\n",
       "      <td>823.5</td>\n",
       "      <td>0.000</td>\n",
       "      <td>12.3</td>\n",
       "      <td>12.3</td>\n",
       "      <td>13.5</td>\n",
       "      <td>13.4</td>\n",
       "      <td>12.3</td>\n",
       "      <td>12.3</td>\n",
       "      <td>100.0</td>\n",
       "      <td>100.0</td>\n",
       "      <td>99.0</td>\n",
       "      <td>7.2</td>\n",
       "      <td>144.0</td>\n",
       "      <td>11.0</td>\n",
       "    </tr>\n",
       "    <tr>\n",
       "      <th>20536</th>\n",
       "      <td>1011.4</td>\n",
       "      <td>1011.4</td>\n",
       "      <td>1010.9</td>\n",
       "      <td>550.383</td>\n",
       "      <td>22.7</td>\n",
       "      <td>20.4</td>\n",
       "      <td>24.9</td>\n",
       "      <td>21.7</td>\n",
       "      <td>22.5</td>\n",
       "      <td>18.6</td>\n",
       "      <td>87.0</td>\n",
       "      <td>90.0</td>\n",
       "      <td>73.0</td>\n",
       "      <td>0.4</td>\n",
       "      <td>54.0</td>\n",
       "      <td>3.3</td>\n",
       "    </tr>\n",
       "    <tr>\n",
       "      <th>54806</th>\n",
       "      <td>976.2</td>\n",
       "      <td>976.2</td>\n",
       "      <td>975.7</td>\n",
       "      <td>0.000</td>\n",
       "      <td>20.8</td>\n",
       "      <td>19.3</td>\n",
       "      <td>21.4</td>\n",
       "      <td>19.8</td>\n",
       "      <td>20.8</td>\n",
       "      <td>19.3</td>\n",
       "      <td>91.0</td>\n",
       "      <td>92.0</td>\n",
       "      <td>91.0</td>\n",
       "      <td>2.3</td>\n",
       "      <td>239.0</td>\n",
       "      <td>4.7</td>\n",
       "    </tr>\n",
       "    <tr>\n",
       "      <th>...</th>\n",
       "      <td>...</td>\n",
       "      <td>...</td>\n",
       "      <td>...</td>\n",
       "      <td>...</td>\n",
       "      <td>...</td>\n",
       "      <td>...</td>\n",
       "      <td>...</td>\n",
       "      <td>...</td>\n",
       "      <td>...</td>\n",
       "      <td>...</td>\n",
       "      <td>...</td>\n",
       "      <td>...</td>\n",
       "      <td>...</td>\n",
       "      <td>...</td>\n",
       "      <td>...</td>\n",
       "      <td>...</td>\n",
       "    </tr>\n",
       "    <tr>\n",
       "      <th>65725</th>\n",
       "      <td>911.0</td>\n",
       "      <td>911.0</td>\n",
       "      <td>910.2</td>\n",
       "      <td>227.501</td>\n",
       "      <td>14.0</td>\n",
       "      <td>13.6</td>\n",
       "      <td>14.2</td>\n",
       "      <td>13.9</td>\n",
       "      <td>13.5</td>\n",
       "      <td>13.2</td>\n",
       "      <td>98.0</td>\n",
       "      <td>98.0</td>\n",
       "      <td>98.0</td>\n",
       "      <td>0.1</td>\n",
       "      <td>215.0</td>\n",
       "      <td>1.9</td>\n",
       "    </tr>\n",
       "    <tr>\n",
       "      <th>59150</th>\n",
       "      <td>904.8</td>\n",
       "      <td>905.5</td>\n",
       "      <td>904.8</td>\n",
       "      <td>0.000</td>\n",
       "      <td>17.6</td>\n",
       "      <td>17.4</td>\n",
       "      <td>17.7</td>\n",
       "      <td>17.5</td>\n",
       "      <td>17.6</td>\n",
       "      <td>17.3</td>\n",
       "      <td>99.0</td>\n",
       "      <td>99.0</td>\n",
       "      <td>99.0</td>\n",
       "      <td>0.2</td>\n",
       "      <td>10.0</td>\n",
       "      <td>3.6</td>\n",
       "    </tr>\n",
       "    <tr>\n",
       "      <th>2747</th>\n",
       "      <td>1017.4</td>\n",
       "      <td>1017.4</td>\n",
       "      <td>1016.8</td>\n",
       "      <td>0.000</td>\n",
       "      <td>18.0</td>\n",
       "      <td>17.0</td>\n",
       "      <td>18.2</td>\n",
       "      <td>17.1</td>\n",
       "      <td>17.9</td>\n",
       "      <td>16.8</td>\n",
       "      <td>94.0</td>\n",
       "      <td>94.0</td>\n",
       "      <td>93.0</td>\n",
       "      <td>3.9</td>\n",
       "      <td>212.0</td>\n",
       "      <td>7.0</td>\n",
       "    </tr>\n",
       "    <tr>\n",
       "      <th>18431</th>\n",
       "      <td>1015.3</td>\n",
       "      <td>1015.6</td>\n",
       "      <td>1014.7</td>\n",
       "      <td>58.770</td>\n",
       "      <td>18.6</td>\n",
       "      <td>17.2</td>\n",
       "      <td>19.8</td>\n",
       "      <td>18.1</td>\n",
       "      <td>18.6</td>\n",
       "      <td>17.2</td>\n",
       "      <td>91.0</td>\n",
       "      <td>91.0</td>\n",
       "      <td>90.0</td>\n",
       "      <td>0.6</td>\n",
       "      <td>184.0</td>\n",
       "      <td>3.4</td>\n",
       "    </tr>\n",
       "    <tr>\n",
       "      <th>84478</th>\n",
       "      <td>895.7</td>\n",
       "      <td>895.7</td>\n",
       "      <td>895.2</td>\n",
       "      <td>306.140</td>\n",
       "      <td>18.7</td>\n",
       "      <td>17.6</td>\n",
       "      <td>19.7</td>\n",
       "      <td>17.6</td>\n",
       "      <td>18.6</td>\n",
       "      <td>16.3</td>\n",
       "      <td>93.0</td>\n",
       "      <td>93.0</td>\n",
       "      <td>83.0</td>\n",
       "      <td>0.8</td>\n",
       "      <td>340.0</td>\n",
       "      <td>5.3</td>\n",
       "    </tr>\n",
       "    <tr>\n",
       "      <th>25658</th>\n",
       "      <td>1005.6</td>\n",
       "      <td>1006.7</td>\n",
       "      <td>1005.5</td>\n",
       "      <td>0.000</td>\n",
       "      <td>24.7</td>\n",
       "      <td>22.7</td>\n",
       "      <td>25.7</td>\n",
       "      <td>22.7</td>\n",
       "      <td>24.1</td>\n",
       "      <td>21.8</td>\n",
       "      <td>89.0</td>\n",
       "      <td>89.0</td>\n",
       "      <td>81.0</td>\n",
       "      <td>1.9</td>\n",
       "      <td>1.0</td>\n",
       "      <td>13.7</td>\n",
       "    </tr>\n",
       "    <tr>\n",
       "      <th>93016</th>\n",
       "      <td>1006.3</td>\n",
       "      <td>1006.3</td>\n",
       "      <td>1005.7</td>\n",
       "      <td>0.000</td>\n",
       "      <td>25.7</td>\n",
       "      <td>21.9</td>\n",
       "      <td>25.8</td>\n",
       "      <td>22.6</td>\n",
       "      <td>24.7</td>\n",
       "      <td>21.8</td>\n",
       "      <td>80.0</td>\n",
       "      <td>87.0</td>\n",
       "      <td>80.0</td>\n",
       "      <td>0.9</td>\n",
       "      <td>10.0</td>\n",
       "      <td>2.6</td>\n",
       "    </tr>\n",
       "    <tr>\n",
       "      <th>71932</th>\n",
       "      <td>1022.4</td>\n",
       "      <td>1023.4</td>\n",
       "      <td>1022.4</td>\n",
       "      <td>0.000</td>\n",
       "      <td>12.8</td>\n",
       "      <td>12.2</td>\n",
       "      <td>12.9</td>\n",
       "      <td>12.4</td>\n",
       "      <td>12.7</td>\n",
       "      <td>12.1</td>\n",
       "      <td>97.0</td>\n",
       "      <td>97.0</td>\n",
       "      <td>97.0</td>\n",
       "      <td>0.5</td>\n",
       "      <td>166.0</td>\n",
       "      <td>1.7</td>\n",
       "    </tr>\n",
       "    <tr>\n",
       "      <th>28693</th>\n",
       "      <td>1012.4</td>\n",
       "      <td>1012.5</td>\n",
       "      <td>1012.4</td>\n",
       "      <td>0.000</td>\n",
       "      <td>23.2</td>\n",
       "      <td>21.8</td>\n",
       "      <td>23.6</td>\n",
       "      <td>21.8</td>\n",
       "      <td>23.2</td>\n",
       "      <td>21.4</td>\n",
       "      <td>92.0</td>\n",
       "      <td>92.0</td>\n",
       "      <td>88.0</td>\n",
       "      <td>1.1</td>\n",
       "      <td>91.0</td>\n",
       "      <td>2.8</td>\n",
       "    </tr>\n",
       "    <tr>\n",
       "      <th>85305</th>\n",
       "      <td>900.5</td>\n",
       "      <td>900.6</td>\n",
       "      <td>900.3</td>\n",
       "      <td>0.000</td>\n",
       "      <td>14.6</td>\n",
       "      <td>13.6</td>\n",
       "      <td>14.8</td>\n",
       "      <td>13.8</td>\n",
       "      <td>14.6</td>\n",
       "      <td>13.6</td>\n",
       "      <td>94.0</td>\n",
       "      <td>94.0</td>\n",
       "      <td>93.0</td>\n",
       "      <td>4.2</td>\n",
       "      <td>205.0</td>\n",
       "      <td>7.8</td>\n",
       "    </tr>\n",
       "    <tr>\n",
       "      <th>53707</th>\n",
       "      <td>967.4</td>\n",
       "      <td>967.4</td>\n",
       "      <td>966.8</td>\n",
       "      <td>721.240</td>\n",
       "      <td>27.7</td>\n",
       "      <td>20.9</td>\n",
       "      <td>30.7</td>\n",
       "      <td>22.0</td>\n",
       "      <td>26.1</td>\n",
       "      <td>17.6</td>\n",
       "      <td>67.0</td>\n",
       "      <td>74.0</td>\n",
       "      <td>45.0</td>\n",
       "      <td>0.2</td>\n",
       "      <td>14.0</td>\n",
       "      <td>7.7</td>\n",
       "    </tr>\n",
       "    <tr>\n",
       "      <th>83104</th>\n",
       "      <td>901.9</td>\n",
       "      <td>902.7</td>\n",
       "      <td>901.9</td>\n",
       "      <td>2936.883</td>\n",
       "      <td>23.2</td>\n",
       "      <td>15.2</td>\n",
       "      <td>23.5</td>\n",
       "      <td>15.7</td>\n",
       "      <td>22.1</td>\n",
       "      <td>13.8</td>\n",
       "      <td>61.0</td>\n",
       "      <td>64.0</td>\n",
       "      <td>58.0</td>\n",
       "      <td>3.0</td>\n",
       "      <td>15.0</td>\n",
       "      <td>5.5</td>\n",
       "    </tr>\n",
       "    <tr>\n",
       "      <th>5311</th>\n",
       "      <td>1024.5</td>\n",
       "      <td>1024.8</td>\n",
       "      <td>1024.5</td>\n",
       "      <td>436.898</td>\n",
       "      <td>20.4</td>\n",
       "      <td>19.8</td>\n",
       "      <td>20.6</td>\n",
       "      <td>20.0</td>\n",
       "      <td>20.3</td>\n",
       "      <td>19.5</td>\n",
       "      <td>96.0</td>\n",
       "      <td>96.0</td>\n",
       "      <td>95.0</td>\n",
       "      <td>2.8</td>\n",
       "      <td>215.0</td>\n",
       "      <td>3.6</td>\n",
       "    </tr>\n",
       "    <tr>\n",
       "      <th>64925</th>\n",
       "      <td>903.9</td>\n",
       "      <td>904.0</td>\n",
       "      <td>903.8</td>\n",
       "      <td>312.114</td>\n",
       "      <td>16.7</td>\n",
       "      <td>16.2</td>\n",
       "      <td>17.3</td>\n",
       "      <td>16.9</td>\n",
       "      <td>16.7</td>\n",
       "      <td>16.2</td>\n",
       "      <td>97.0</td>\n",
       "      <td>98.0</td>\n",
       "      <td>97.0</td>\n",
       "      <td>0.5</td>\n",
       "      <td>120.0</td>\n",
       "      <td>2.0</td>\n",
       "    </tr>\n",
       "    <tr>\n",
       "      <th>62955</th>\n",
       "      <td>907.6</td>\n",
       "      <td>907.6</td>\n",
       "      <td>907.2</td>\n",
       "      <td>140.481</td>\n",
       "      <td>18.6</td>\n",
       "      <td>17.4</td>\n",
       "      <td>19.5</td>\n",
       "      <td>17.9</td>\n",
       "      <td>18.6</td>\n",
       "      <td>17.2</td>\n",
       "      <td>92.0</td>\n",
       "      <td>93.0</td>\n",
       "      <td>88.0</td>\n",
       "      <td>0.8</td>\n",
       "      <td>86.0</td>\n",
       "      <td>2.2</td>\n",
       "    </tr>\n",
       "    <tr>\n",
       "      <th>59735</th>\n",
       "      <td>909.9</td>\n",
       "      <td>909.9</td>\n",
       "      <td>909.4</td>\n",
       "      <td>409.074</td>\n",
       "      <td>13.8</td>\n",
       "      <td>13.4</td>\n",
       "      <td>14.0</td>\n",
       "      <td>13.8</td>\n",
       "      <td>13.6</td>\n",
       "      <td>13.4</td>\n",
       "      <td>97.0</td>\n",
       "      <td>99.0</td>\n",
       "      <td>97.0</td>\n",
       "      <td>1.0</td>\n",
       "      <td>97.0</td>\n",
       "      <td>3.7</td>\n",
       "    </tr>\n",
       "    <tr>\n",
       "      <th>769</th>\n",
       "      <td>984.8</td>\n",
       "      <td>985.6</td>\n",
       "      <td>984.8</td>\n",
       "      <td>1396.695</td>\n",
       "      <td>24.9</td>\n",
       "      <td>22.1</td>\n",
       "      <td>28.1</td>\n",
       "      <td>22.3</td>\n",
       "      <td>24.8</td>\n",
       "      <td>20.9</td>\n",
       "      <td>84.0</td>\n",
       "      <td>85.0</td>\n",
       "      <td>66.0</td>\n",
       "      <td>2.3</td>\n",
       "      <td>246.0</td>\n",
       "      <td>5.7</td>\n",
       "    </tr>\n",
       "    <tr>\n",
       "      <th>64820</th>\n",
       "      <td>906.1</td>\n",
       "      <td>906.1</td>\n",
       "      <td>905.6</td>\n",
       "      <td>0.000</td>\n",
       "      <td>19.6</td>\n",
       "      <td>19.2</td>\n",
       "      <td>19.7</td>\n",
       "      <td>19.2</td>\n",
       "      <td>19.5</td>\n",
       "      <td>19.0</td>\n",
       "      <td>97.0</td>\n",
       "      <td>97.0</td>\n",
       "      <td>97.0</td>\n",
       "      <td>0.1</td>\n",
       "      <td>315.0</td>\n",
       "      <td>1.5</td>\n",
       "    </tr>\n",
       "    <tr>\n",
       "      <th>67221</th>\n",
       "      <td>908.0</td>\n",
       "      <td>908.3</td>\n",
       "      <td>906.7</td>\n",
       "      <td>57.731</td>\n",
       "      <td>19.0</td>\n",
       "      <td>18.0</td>\n",
       "      <td>24.4</td>\n",
       "      <td>21.0</td>\n",
       "      <td>19.0</td>\n",
       "      <td>17.7</td>\n",
       "      <td>94.0</td>\n",
       "      <td>94.0</td>\n",
       "      <td>79.0</td>\n",
       "      <td>0.3</td>\n",
       "      <td>87.0</td>\n",
       "      <td>8.0</td>\n",
       "    </tr>\n",
       "    <tr>\n",
       "      <th>41090</th>\n",
       "      <td>961.3</td>\n",
       "      <td>961.3</td>\n",
       "      <td>960.0</td>\n",
       "      <td>0.000</td>\n",
       "      <td>21.0</td>\n",
       "      <td>20.2</td>\n",
       "      <td>21.5</td>\n",
       "      <td>20.4</td>\n",
       "      <td>21.0</td>\n",
       "      <td>20.2</td>\n",
       "      <td>95.0</td>\n",
       "      <td>95.0</td>\n",
       "      <td>93.0</td>\n",
       "      <td>3.3</td>\n",
       "      <td>28.0</td>\n",
       "      <td>9.0</td>\n",
       "    </tr>\n",
       "    <tr>\n",
       "      <th>16023</th>\n",
       "      <td>1020.0</td>\n",
       "      <td>1020.0</td>\n",
       "      <td>1019.7</td>\n",
       "      <td>0.000</td>\n",
       "      <td>18.9</td>\n",
       "      <td>18.0</td>\n",
       "      <td>19.2</td>\n",
       "      <td>18.3</td>\n",
       "      <td>18.9</td>\n",
       "      <td>17.9</td>\n",
       "      <td>94.0</td>\n",
       "      <td>95.0</td>\n",
       "      <td>94.0</td>\n",
       "      <td>1.1</td>\n",
       "      <td>268.0</td>\n",
       "      <td>2.8</td>\n",
       "    </tr>\n",
       "    <tr>\n",
       "      <th>60263</th>\n",
       "      <td>901.5</td>\n",
       "      <td>901.9</td>\n",
       "      <td>901.4</td>\n",
       "      <td>361.719</td>\n",
       "      <td>17.1</td>\n",
       "      <td>16.5</td>\n",
       "      <td>17.4</td>\n",
       "      <td>16.8</td>\n",
       "      <td>17.1</td>\n",
       "      <td>16.5</td>\n",
       "      <td>96.0</td>\n",
       "      <td>96.0</td>\n",
       "      <td>96.0</td>\n",
       "      <td>1.6</td>\n",
       "      <td>156.0</td>\n",
       "      <td>5.5</td>\n",
       "    </tr>\n",
       "    <tr>\n",
       "      <th>44131</th>\n",
       "      <td>965.5</td>\n",
       "      <td>965.6</td>\n",
       "      <td>964.9</td>\n",
       "      <td>0.000</td>\n",
       "      <td>19.1</td>\n",
       "      <td>17.8</td>\n",
       "      <td>19.3</td>\n",
       "      <td>17.9</td>\n",
       "      <td>19.0</td>\n",
       "      <td>17.7</td>\n",
       "      <td>92.0</td>\n",
       "      <td>92.0</td>\n",
       "      <td>92.0</td>\n",
       "      <td>1.4</td>\n",
       "      <td>302.0</td>\n",
       "      <td>2.4</td>\n",
       "    </tr>\n",
       "    <tr>\n",
       "      <th>87498</th>\n",
       "      <td>897.6</td>\n",
       "      <td>898.5</td>\n",
       "      <td>897.6</td>\n",
       "      <td>0.000</td>\n",
       "      <td>18.3</td>\n",
       "      <td>17.8</td>\n",
       "      <td>18.3</td>\n",
       "      <td>17.8</td>\n",
       "      <td>17.6</td>\n",
       "      <td>17.2</td>\n",
       "      <td>97.0</td>\n",
       "      <td>97.0</td>\n",
       "      <td>97.0</td>\n",
       "      <td>1.6</td>\n",
       "      <td>58.0</td>\n",
       "      <td>2.8</td>\n",
       "    </tr>\n",
       "    <tr>\n",
       "      <th>37194</th>\n",
       "      <td>1006.3</td>\n",
       "      <td>1006.3</td>\n",
       "      <td>1006.2</td>\n",
       "      <td>561.174</td>\n",
       "      <td>23.0</td>\n",
       "      <td>21.5</td>\n",
       "      <td>23.4</td>\n",
       "      <td>21.9</td>\n",
       "      <td>22.8</td>\n",
       "      <td>21.3</td>\n",
       "      <td>91.0</td>\n",
       "      <td>92.0</td>\n",
       "      <td>90.0</td>\n",
       "      <td>3.0</td>\n",
       "      <td>42.0</td>\n",
       "      <td>8.3</td>\n",
       "    </tr>\n",
       "    <tr>\n",
       "      <th>6265</th>\n",
       "      <td>1010.5</td>\n",
       "      <td>1010.5</td>\n",
       "      <td>1009.2</td>\n",
       "      <td>6.982</td>\n",
       "      <td>21.2</td>\n",
       "      <td>20.9</td>\n",
       "      <td>21.6</td>\n",
       "      <td>21.5</td>\n",
       "      <td>21.2</td>\n",
       "      <td>20.9</td>\n",
       "      <td>99.0</td>\n",
       "      <td>99.0</td>\n",
       "      <td>99.0</td>\n",
       "      <td>3.0</td>\n",
       "      <td>54.0</td>\n",
       "      <td>5.7</td>\n",
       "    </tr>\n",
       "    <tr>\n",
       "      <th>54886</th>\n",
       "      <td>973.1</td>\n",
       "      <td>973.2</td>\n",
       "      <td>973.0</td>\n",
       "      <td>1085.184</td>\n",
       "      <td>23.6</td>\n",
       "      <td>20.5</td>\n",
       "      <td>23.6</td>\n",
       "      <td>20.6</td>\n",
       "      <td>23.0</td>\n",
       "      <td>19.4</td>\n",
       "      <td>83.0</td>\n",
       "      <td>84.0</td>\n",
       "      <td>80.0</td>\n",
       "      <td>1.6</td>\n",
       "      <td>225.0</td>\n",
       "      <td>4.1</td>\n",
       "    </tr>\n",
       "    <tr>\n",
       "      <th>76820</th>\n",
       "      <td>1013.0</td>\n",
       "      <td>1014.3</td>\n",
       "      <td>1012.9</td>\n",
       "      <td>0.000</td>\n",
       "      <td>24.0</td>\n",
       "      <td>22.7</td>\n",
       "      <td>24.2</td>\n",
       "      <td>22.9</td>\n",
       "      <td>23.9</td>\n",
       "      <td>22.6</td>\n",
       "      <td>92.0</td>\n",
       "      <td>93.0</td>\n",
       "      <td>92.0</td>\n",
       "      <td>4.2</td>\n",
       "      <td>64.0</td>\n",
       "      <td>9.2</td>\n",
       "    </tr>\n",
       "    <tr>\n",
       "      <th>860</th>\n",
       "      <td>985.7</td>\n",
       "      <td>986.1</td>\n",
       "      <td>985.6</td>\n",
       "      <td>0.000</td>\n",
       "      <td>23.7</td>\n",
       "      <td>22.4</td>\n",
       "      <td>24.1</td>\n",
       "      <td>22.8</td>\n",
       "      <td>23.6</td>\n",
       "      <td>22.1</td>\n",
       "      <td>92.0</td>\n",
       "      <td>92.0</td>\n",
       "      <td>88.0</td>\n",
       "      <td>1.2</td>\n",
       "      <td>302.0</td>\n",
       "      <td>3.7</td>\n",
       "    </tr>\n",
       "    <tr>\n",
       "      <th>15795</th>\n",
       "      <td>1009.2</td>\n",
       "      <td>1009.2</td>\n",
       "      <td>1008.8</td>\n",
       "      <td>53.073</td>\n",
       "      <td>22.7</td>\n",
       "      <td>20.9</td>\n",
       "      <td>24.1</td>\n",
       "      <td>21.1</td>\n",
       "      <td>22.7</td>\n",
       "      <td>20.5</td>\n",
       "      <td>89.0</td>\n",
       "      <td>89.0</td>\n",
       "      <td>80.0</td>\n",
       "      <td>1.4</td>\n",
       "      <td>73.0</td>\n",
       "      <td>2.8</td>\n",
       "    </tr>\n",
       "  </tbody>\n",
       "</table>\n",
       "<p>64202 rows × 16 columns</p>\n",
       "</div>"
      ],
      "text/plain": [
       "          stp    smax    smin      gbrd  temp  dewp  tmax  dmax  tmin  dmin  \\\n",
       "89768  1005.6  1006.9  1005.5  2837.746  23.7  15.5  24.4  15.9  23.3  15.1   \n",
       "11816  1022.2  1022.3  1022.2   247.576  19.4  19.3  19.7  19.5  19.3  19.0   \n",
       "59139   905.6   906.0   905.6   691.976  18.3  17.9  18.5  18.1  17.7  17.3   \n",
       "36567  1017.3  1017.5  1016.9   677.420  19.4  17.1  23.1  19.3  18.9  16.1   \n",
       "4095   1011.2  1011.2  1010.8   242.561  21.7  21.6  21.9  21.8  21.4  21.4   \n",
       "48236   826.5   826.7   826.5     0.000  15.8  13.6  16.2  14.7  14.8  13.6   \n",
       "11343  1006.8  1008.3  1006.7   500.079  22.5  20.0  23.9  20.5  22.5  19.8   \n",
       "51922   832.5   833.3   832.5   300.194  10.8  10.7  11.1  11.0  10.7  10.6   \n",
       "82511   894.0   894.3   893.9     0.000  17.3  16.5  17.4  16.5  17.2  16.3   \n",
       "79844  1018.9  1018.9  1018.1     0.000  19.9  18.2  20.0  18.3  19.8  18.0   \n",
       "51937   835.1   835.2   835.0     0.000   9.0   9.0   9.3   9.2   9.0   8.9   \n",
       "87276   891.4   891.4   890.9    76.991  21.5  18.9  21.7  20.3  20.4  18.9   \n",
       "45727   825.1   825.1   824.9   386.662  16.2  16.1  17.2  17.1  16.2  16.1   \n",
       "68254  1009.5  1010.4  1009.5   241.034  21.2  19.8  21.3  20.1  20.9  19.7   \n",
       "12804  1013.3  1013.3  1013.2     0.000  23.4  21.0  23.7  21.5  22.7  20.6   \n",
       "58012   906.9   907.6   906.8     0.000  15.9  15.2  16.3  15.7  15.6  15.1   \n",
       "79113  1005.5  1005.7  1005.1     0.000  23.7  22.2  23.9  22.3  23.7  22.1   \n",
       "68864  1010.9  1011.7  1010.9   203.032  26.2  21.7  26.7  23.3  25.5  21.5   \n",
       "91158  1015.1  1015.1  1014.2    60.162  17.1  15.6  17.3  15.8  16.9  15.3   \n",
       "30357  1009.5  1009.5  1008.6     0.602  22.9  22.8  23.0  22.9  22.9  22.8   \n",
       "82442   900.6   900.7   900.2  1034.692  13.4  12.6  14.3  13.4  12.9  12.2   \n",
       "31948  1020.5  1020.5  1020.0     0.000  18.7  17.8  19.2  17.8  18.7  17.2   \n",
       "6079   1017.5  1018.2  1017.5   888.435  17.7  15.9  17.8  16.1  16.4  14.8   \n",
       "15879  1009.7  1011.0  1009.5     0.000  20.8  19.2  22.6  20.6  20.8  18.8   \n",
       "62432   900.8   901.2   900.8   589.734  19.2  18.7  19.3  18.7  18.6  18.1   \n",
       "4496   1014.8  1014.8  1014.3     0.190  21.3  20.9  21.6  21.2  21.2  20.9   \n",
       "80450  1012.9  1012.9  1012.5     0.000  22.4  20.5  22.5  20.6  22.2  20.3   \n",
       "45867   824.5   824.5   823.5     0.000  12.3  12.3  13.5  13.4  12.3  12.3   \n",
       "20536  1011.4  1011.4  1010.9   550.383  22.7  20.4  24.9  21.7  22.5  18.6   \n",
       "54806   976.2   976.2   975.7     0.000  20.8  19.3  21.4  19.8  20.8  19.3   \n",
       "...       ...     ...     ...       ...   ...   ...   ...   ...   ...   ...   \n",
       "65725   911.0   911.0   910.2   227.501  14.0  13.6  14.2  13.9  13.5  13.2   \n",
       "59150   904.8   905.5   904.8     0.000  17.6  17.4  17.7  17.5  17.6  17.3   \n",
       "2747   1017.4  1017.4  1016.8     0.000  18.0  17.0  18.2  17.1  17.9  16.8   \n",
       "18431  1015.3  1015.6  1014.7    58.770  18.6  17.2  19.8  18.1  18.6  17.2   \n",
       "84478   895.7   895.7   895.2   306.140  18.7  17.6  19.7  17.6  18.6  16.3   \n",
       "25658  1005.6  1006.7  1005.5     0.000  24.7  22.7  25.7  22.7  24.1  21.8   \n",
       "93016  1006.3  1006.3  1005.7     0.000  25.7  21.9  25.8  22.6  24.7  21.8   \n",
       "71932  1022.4  1023.4  1022.4     0.000  12.8  12.2  12.9  12.4  12.7  12.1   \n",
       "28693  1012.4  1012.5  1012.4     0.000  23.2  21.8  23.6  21.8  23.2  21.4   \n",
       "85305   900.5   900.6   900.3     0.000  14.6  13.6  14.8  13.8  14.6  13.6   \n",
       "53707   967.4   967.4   966.8   721.240  27.7  20.9  30.7  22.0  26.1  17.6   \n",
       "83104   901.9   902.7   901.9  2936.883  23.2  15.2  23.5  15.7  22.1  13.8   \n",
       "5311   1024.5  1024.8  1024.5   436.898  20.4  19.8  20.6  20.0  20.3  19.5   \n",
       "64925   903.9   904.0   903.8   312.114  16.7  16.2  17.3  16.9  16.7  16.2   \n",
       "62955   907.6   907.6   907.2   140.481  18.6  17.4  19.5  17.9  18.6  17.2   \n",
       "59735   909.9   909.9   909.4   409.074  13.8  13.4  14.0  13.8  13.6  13.4   \n",
       "769     984.8   985.6   984.8  1396.695  24.9  22.1  28.1  22.3  24.8  20.9   \n",
       "64820   906.1   906.1   905.6     0.000  19.6  19.2  19.7  19.2  19.5  19.0   \n",
       "67221   908.0   908.3   906.7    57.731  19.0  18.0  24.4  21.0  19.0  17.7   \n",
       "41090   961.3   961.3   960.0     0.000  21.0  20.2  21.5  20.4  21.0  20.2   \n",
       "16023  1020.0  1020.0  1019.7     0.000  18.9  18.0  19.2  18.3  18.9  17.9   \n",
       "60263   901.5   901.9   901.4   361.719  17.1  16.5  17.4  16.8  17.1  16.5   \n",
       "44131   965.5   965.6   964.9     0.000  19.1  17.8  19.3  17.9  19.0  17.7   \n",
       "87498   897.6   898.5   897.6     0.000  18.3  17.8  18.3  17.8  17.6  17.2   \n",
       "37194  1006.3  1006.3  1006.2   561.174  23.0  21.5  23.4  21.9  22.8  21.3   \n",
       "6265   1010.5  1010.5  1009.2     6.982  21.2  20.9  21.6  21.5  21.2  20.9   \n",
       "54886   973.1   973.2   973.0  1085.184  23.6  20.5  23.6  20.6  23.0  19.4   \n",
       "76820  1013.0  1014.3  1012.9     0.000  24.0  22.7  24.2  22.9  23.9  22.6   \n",
       "860     985.7   986.1   985.6     0.000  23.7  22.4  24.1  22.8  23.6  22.1   \n",
       "15795  1009.2  1009.2  1008.8    53.073  22.7  20.9  24.1  21.1  22.7  20.5   \n",
       "\n",
       "        hmdy   hmax   hmin  wdsp   wdct  gust  \n",
       "89768   60.0   62.0   57.0   4.7  353.0  11.3  \n",
       "11816   99.0   99.0   98.0   3.8  105.0   7.9  \n",
       "59139   98.0   98.0   97.0   1.1   68.0   4.3  \n",
       "36567   87.0   87.0   77.0   2.8  221.0   9.7  \n",
       "4095   100.0  100.0  100.0   3.8  219.0   5.8  \n",
       "48236   86.0   93.0   86.0   1.2    8.0   2.4  \n",
       "11343   85.0   85.0   80.0   9.9  223.0  14.9  \n",
       "51922   99.0   99.0   99.0   4.1  328.0   8.4  \n",
       "82511   95.0   95.0   94.0   3.6  208.0   6.5  \n",
       "79844   90.0   90.0   89.0   0.3  337.0   1.2  \n",
       "51937   99.0  100.0   99.0   4.3  120.0   6.1  \n",
       "87276   85.0   96.0   85.0   2.5   44.0   6.3  \n",
       "45727   99.0   99.0   99.0   4.0  157.0   5.4  \n",
       "68254   92.0   93.0   92.0   1.2  160.0   3.8  \n",
       "12804   86.0   89.0   86.0   2.7  102.0   9.5  \n",
       "58012   96.0   97.0   94.0   1.5  260.0   6.0  \n",
       "79113   91.0   91.0   90.0   0.1  109.0   2.4  \n",
       "68864   77.0   84.0   76.0   1.7   56.0   5.5  \n",
       "91158   91.0   91.0   90.0   4.9  241.0   8.2  \n",
       "30357   99.0   99.0   99.0   1.4  299.0   3.9  \n",
       "82442   95.0   96.0   92.0   3.0  222.0   6.0  \n",
       "31948   95.0   95.0   88.0   2.7  242.0   4.6  \n",
       "6079    89.0   94.0   87.0   3.2  262.0   3.3  \n",
       "15879   91.0   91.0   85.0   0.6  108.0   4.4  \n",
       "62432   97.0   97.0   97.0   1.1    4.0   3.2  \n",
       "4496    98.0   98.0   98.0   2.5  225.0   5.0  \n",
       "80450   89.0   89.0   88.0   2.2  288.0   4.4  \n",
       "45867  100.0  100.0   99.0   7.2  144.0  11.0  \n",
       "20536   87.0   90.0   73.0   0.4   54.0   3.3  \n",
       "54806   91.0   92.0   91.0   2.3  239.0   4.7  \n",
       "...      ...    ...    ...   ...    ...   ...  \n",
       "65725   98.0   98.0   98.0   0.1  215.0   1.9  \n",
       "59150   99.0   99.0   99.0   0.2   10.0   3.6  \n",
       "2747    94.0   94.0   93.0   3.9  212.0   7.0  \n",
       "18431   91.0   91.0   90.0   0.6  184.0   3.4  \n",
       "84478   93.0   93.0   83.0   0.8  340.0   5.3  \n",
       "25658   89.0   89.0   81.0   1.9    1.0  13.7  \n",
       "93016   80.0   87.0   80.0   0.9   10.0   2.6  \n",
       "71932   97.0   97.0   97.0   0.5  166.0   1.7  \n",
       "28693   92.0   92.0   88.0   1.1   91.0   2.8  \n",
       "85305   94.0   94.0   93.0   4.2  205.0   7.8  \n",
       "53707   67.0   74.0   45.0   0.2   14.0   7.7  \n",
       "83104   61.0   64.0   58.0   3.0   15.0   5.5  \n",
       "5311    96.0   96.0   95.0   2.8  215.0   3.6  \n",
       "64925   97.0   98.0   97.0   0.5  120.0   2.0  \n",
       "62955   92.0   93.0   88.0   0.8   86.0   2.2  \n",
       "59735   97.0   99.0   97.0   1.0   97.0   3.7  \n",
       "769     84.0   85.0   66.0   2.3  246.0   5.7  \n",
       "64820   97.0   97.0   97.0   0.1  315.0   1.5  \n",
       "67221   94.0   94.0   79.0   0.3   87.0   8.0  \n",
       "41090   95.0   95.0   93.0   3.3   28.0   9.0  \n",
       "16023   94.0   95.0   94.0   1.1  268.0   2.8  \n",
       "60263   96.0   96.0   96.0   1.6  156.0   5.5  \n",
       "44131   92.0   92.0   92.0   1.4  302.0   2.4  \n",
       "87498   97.0   97.0   97.0   1.6   58.0   2.8  \n",
       "37194   91.0   92.0   90.0   3.0   42.0   8.3  \n",
       "6265    99.0   99.0   99.0   3.0   54.0   5.7  \n",
       "54886   83.0   84.0   80.0   1.6  225.0   4.1  \n",
       "76820   92.0   93.0   92.0   4.2   64.0   9.2  \n",
       "860     92.0   92.0   88.0   1.2  302.0   3.7  \n",
       "15795   89.0   89.0   80.0   1.4   73.0   2.8  \n",
       "\n",
       "[64202 rows x 16 columns]"
      ]
     },
     "execution_count": 149,
     "metadata": {},
     "output_type": "execute_result"
    }
   ],
   "source": [
    "X_train[~y_train]"
   ]
  },
  {
   "cell_type": "code",
   "execution_count": null,
   "metadata": {},
   "outputs": [],
   "source": []
  }
 ],
 "metadata": {
  "kernelspec": {
   "display_name": "Python 3",
   "language": "python",
   "name": "python3"
  },
  "language_info": {
   "codemirror_mode": {
    "name": "ipython",
    "version": 3
   },
   "file_extension": ".py",
   "mimetype": "text/x-python",
   "name": "python",
   "nbconvert_exporter": "python",
   "pygments_lexer": "ipython3",
   "version": "3.7.3"
  }
 },
 "nbformat": 4,
 "nbformat_minor": 2
}
